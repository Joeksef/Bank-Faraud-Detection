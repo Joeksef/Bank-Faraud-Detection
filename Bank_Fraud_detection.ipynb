{
  "nbformat": 4,
  "nbformat_minor": 0,
  "metadata": {
    "colab": {
      "name": "Bank_Fraud_detection.ipynb",
      "provenance": [],
      "collapsed_sections": [],
      "include_colab_link": true
    },
    "kernelspec": {
      "display_name": "Python 3",
      "language": "python",
      "name": "python3"
    },
    "language_info": {
      "codemirror_mode": {
        "name": "ipython",
        "version": 3
      },
      "file_extension": ".py",
      "mimetype": "text/x-python",
      "name": "python",
      "nbconvert_exporter": "python",
      "pygments_lexer": "ipython3",
      "version": "3.8.8"
    }
  },
  "cells": [
    {
      "cell_type": "markdown",
      "metadata": {
        "id": "view-in-github",
        "colab_type": "text"
      },
      "source": [
        "<a href=\"https://colab.research.google.com/github/Joeksef/Bank-Fraud-Detection/blob/main/Bank_Fraud_detection.ipynb\" target=\"_parent\"><img src=\"https://colab.research.google.com/assets/colab-badge.svg\" alt=\"Open In Colab\"/></a>"
      ]
    },
    {
      "cell_type": "markdown",
      "metadata": {
        "id": "0h9weR6fnHrK"
      },
      "source": [
        "**Bank Fraud detection by Kolawole Joseph E**"
      ]
    },
    {
      "cell_type": "code",
      "metadata": {
        "colab": {
          "base_uri": "https://localhost:8080/",
          "height": 140
        },
        "id": "hN-l90Tq-K_4",
        "outputId": "95265410-419a-4709-ccd0-90bea9810c02"
      },
      "source": [
        "# Dataset Description\n",
        "\"\"\"\n",
        "label                 Flag indicating whether the user paid back the credit amount within 5 days of issuing the loan {1:success, 0:failure}\n",
        "msisdn\t              mobile number of user\n",
        "aon\t                  age on cellular network in days\n",
        "daily_decr30\t        Daily amount spent from main account, averaged over last 30 days\n",
        "daily_decr90\t        Daily amount spent from main account, averaged over last 90 days\n",
        "rental30\t            Average main account balance over last 30 days\n",
        "rental90\t            Average main account balance over last 90 days\n",
        "last_rech_date_ma\t    Number of days till last recharge of main account\n",
        "last_rech_date_da\t    Number of days till last recharge of data account\n",
        "last_rech_amt_ma\t    Amount of last recharge of main account\n",
        "cnt_ma_rech30\t        Number of times main account got recharged in last 30 days\n",
        "fr_ma_rech30\t        Frequency of main account recharged in last 30 days\n",
        "sumamnt_ma_rech30\t    Total amount of recharge in main account over last 30 days\n",
        "medianamnt_ma_rech30\tMedian of amount of recharges done in main account over last 30 days at user level\n",
        "medianmarechprebal30\tMedian of main account balance just before recharge in last 30 days at user level\n",
        "cnt_ma_rech90\t        Number of times main account got recharged in last 90 days\n",
        "fr_ma_rech90\t        Frequency of main account recharged in last 90 days\n",
        "sumamnt_ma_rech90\t    Total amount of recharge in main account over last 90 days\n",
        "medianamnt_ma_rech90\tMedian of amount of recharges done in main account over last 90 days at user level\n",
        "medianmarechprebal90\tMedian of main account balance just before recharge in last 90 days at user level\n",
        "cnt_da_rech30\t        Number of times data account got recharged in last 30 days\n",
        "fr_da_rech30\t        Frequency of data account recharged in last 30 days\n",
        "cnt_da_rech90\t        Number of times data account got recharged in last 90 days\n",
        "fr_da_rech90\t        Frequency of data account recharged in last 90 days\n",
        "cnt_loans30\t          Number of loans taken by user in last 30 days\n",
        "amnt_loans30\t        Total amount of loans taken by user in last 30 days\n",
        "maxamnt_loans30\t      maximum amount of loan taken by the user in last 30 days There are only two options: 5 & 10 INR, for                           which the user needs to pay back 6 & 12 INR respectively\n",
        "medianamnt_loans30\t  Median of amounts of loan taken by the user in last 30 days\n",
        "cnt_loans90\t          Number of loans taken by user in last 90 days\n",
        "amnt_loans90\t        Total amount of loans taken by user in last 90 days\n",
        "maxamnt_loans90\t      maximum amount of loan taken by the user in last 90 days\n",
        "medianamnt_loans90\t  Median of amounts of loan taken by the user in last 90 days\n",
        "payback30\t            Average payback time in days over last 30 days\n",
        "payback90\t            Average payback time in days over last 90 days\n",
        "pcircle\t              telecom circle\n",
        "pdate\t                date\n",
        "\"\"\""
      ],
      "execution_count": null,
      "outputs": [
        {
          "output_type": "execute_result",
          "data": {
            "application/vnd.google.colaboratory.intrinsic+json": {
              "type": "string"
            },
            "text/plain": [
              "'\\nlabel                 Flag indicating whether the user paid back the credit amount within 5 days of issuing the loan {1:success, 0:failure}\\nmsisdn\\t              mobile number of user\\naon\\t                  age on cellular network in days\\ndaily_decr30\\t        Daily amount spent from main account, averaged over last 30 days\\ndaily_decr90\\t        Daily amount spent from main account, averaged over last 90 days\\nrental30\\t            Average main account balance over last 30 days\\nrental90\\t            Average main account balance over last 90 days\\nlast_rech_date_ma\\t    Number of days till last recharge of main account\\nlast_rech_date_da\\t    Number of days till last recharge of data account\\nlast_rech_amt_ma\\t    Amount of last recharge of main account\\ncnt_ma_rech30\\t        Number of times main account got recharged in last 30 days\\nfr_ma_rech30\\t        Frequency of main account recharged in last 30 days\\nsumamnt_ma_rech30\\t    Total amount of recharge in main account over last 30 days\\nmedianamnt_ma_rech30\\tMedian of amount of recharges done in main account over last 30 days at user level\\nmedianmarechprebal30\\tMedian of main account balance just before recharge in last 30 days at user level\\ncnt_ma_rech90\\t        Number of times main account got recharged in last 90 days\\nfr_ma_rech90\\t        Frequency of main account recharged in last 90 days\\nsumamnt_ma_rech90\\t    Total amount of recharge in main account over last 90 days\\nmedianamnt_ma_rech90\\tMedian of amount of recharges done in main account over last 90 days at user level\\nmedianmarechprebal90\\tMedian of main account balance just before recharge in last 90 days at user level\\ncnt_da_rech30\\t        Number of times data account got recharged in last 30 days\\nfr_da_rech30\\t        Frequency of data account recharged in last 30 days\\ncnt_da_rech90\\t        Number of times data account got recharged in last 90 days\\nfr_da_rech90\\t        Frequency of data account recharged in last 90 days\\ncnt_loans30\\t          Number of loans taken by user in last 30 days\\namnt_loans30\\t        Total amount of loans taken by user in last 30 days\\nmaxamnt_loans30\\t      maximum amount of loan taken by the user in last 30 days There are only two options: 5 & 10 INR, for                           which the user needs to pay back 6 & 12 INR respectively\\nmedianamnt_loans30\\t  Median of amounts of loan taken by the user in last 30 days\\ncnt_loans90\\t          Number of loans taken by user in last 90 days\\namnt_loans90\\t        Total amount of loans taken by user in last 90 days\\nmaxamnt_loans90\\t      maximum amount of loan taken by the user in last 90 days\\nmedianamnt_loans90\\t  Median of amounts of loan taken by the user in last 90 days\\npayback30\\t            Average payback time in days over last 30 days\\npayback90\\t            Average payback time in days over last 90 days\\npcircle\\t              telecom circle\\npdate\\t                date\\n'"
            ]
          },
          "metadata": {},
          "execution_count": 1
        }
      ]
    },
    {
      "cell_type": "code",
      "metadata": {
        "colab": {
          "base_uri": "https://localhost:8080/"
        },
        "id": "6U2o3r4Gn6gN",
        "outputId": "88cc3521-0cee-406c-b55b-0c2fd8a57916"
      },
      "source": [
        "!pip install imblearn  "
      ],
      "execution_count": null,
      "outputs": [
        {
          "output_type": "stream",
          "name": "stdout",
          "text": [
            "Requirement already satisfied: imblearn in /usr/local/lib/python3.7/dist-packages (0.0)\n",
            "Requirement already satisfied: imbalanced-learn in /usr/local/lib/python3.7/dist-packages (from imblearn) (0.8.1)\n",
            "Requirement already satisfied: scipy>=0.19.1 in /usr/local/lib/python3.7/dist-packages (from imbalanced-learn->imblearn) (1.4.1)\n",
            "Requirement already satisfied: joblib>=0.11 in /usr/local/lib/python3.7/dist-packages (from imbalanced-learn->imblearn) (1.1.0)\n",
            "Requirement already satisfied: numpy>=1.13.3 in /usr/local/lib/python3.7/dist-packages (from imbalanced-learn->imblearn) (1.19.5)\n",
            "Requirement already satisfied: scikit-learn>=0.24 in /usr/local/lib/python3.7/dist-packages (from imbalanced-learn->imblearn) (1.0.1)\n",
            "Requirement already satisfied: threadpoolctl>=2.0.0 in /usr/local/lib/python3.7/dist-packages (from scikit-learn>=0.24->imbalanced-learn->imblearn) (3.0.0)\n"
          ]
        }
      ]
    },
    {
      "cell_type": "code",
      "metadata": {
        "colab": {
          "base_uri": "https://localhost:8080/"
        },
        "id": "jWVf1id3n6gP",
        "outputId": "40b685f2-c443-4e7d-9b6d-2f735db16df4"
      },
      "source": [
        "!pip install termcolor"
      ],
      "execution_count": null,
      "outputs": [
        {
          "output_type": "stream",
          "name": "stdout",
          "text": [
            "Requirement already satisfied: termcolor in /usr/local/lib/python3.7/dist-packages (1.1.0)\n"
          ]
        }
      ]
    },
    {
      "cell_type": "code",
      "metadata": {
        "colab": {
          "base_uri": "https://localhost:8080/"
        },
        "id": "u91QLFhVn6gQ",
        "outputId": "a2a750e0-b6a6-42ab-871c-399857629e39"
      },
      "source": [
        "!pip install xgboost"
      ],
      "execution_count": null,
      "outputs": [
        {
          "output_type": "stream",
          "name": "stdout",
          "text": [
            "Requirement already satisfied: xgboost in /usr/local/lib/python3.7/dist-packages (0.90)\n",
            "Requirement already satisfied: numpy in /usr/local/lib/python3.7/dist-packages (from xgboost) (1.19.5)\n",
            "Requirement already satisfied: scipy in /usr/local/lib/python3.7/dist-packages (from xgboost) (1.4.1)\n"
          ]
        }
      ]
    },
    {
      "cell_type": "code",
      "metadata": {
        "id": "rW9Jzmlh1nhA"
      },
      "source": [
        "# IMPORTING NECESSARY LIBRARIES AND MODULES\n",
        "\n",
        "import numpy as np\n",
        "import pandas as pd\n",
        "import matplotlib.pyplot as plt\n",
        "import seaborn as sns\n",
        "\n",
        "from sklearn.preprocessing import StandardScaler # for normalizing data\n",
        "from sklearn.model_selection import train_test_split, GridSearchCV\n",
        "from sklearn.linear_model import LinearRegression, LogisticRegression\n",
        "from sklearn.ensemble import IsolationForest, RandomForestClassifier # Isolation Forest and Random forest tree algorithm\n",
        "from sklearn.tree import DecisionTreeClassifier\n",
        "from sklearn.svm import SVC\n",
        "from sklearn.neighbors import KNeighborsClassifier\n",
        "from sklearn.metrics import mean_absolute_error, mean_squared_error, f1_score , r2_score, classification_report, confusion_matrix, accuracy_score, roc_auc_score, roc_curve, precision_recall_curve, average_precision_score\n",
        "\n",
        "from imblearn.over_sampling import SMOTE\n",
        "from imblearn.over_sampling import BorderlineSMOTE\n",
        "from imblearn.pipeline import Pipeline\n",
        "\n",
        "from xgboost import XGBClassifier # XGBoost algorithm\n",
        "from termcolor import colored as cl # for customizing text\n",
        "from collections import Counter\n",
        "import itertools # advanced tools\n"
      ],
      "execution_count": null,
      "outputs": []
    },
    {
      "cell_type": "code",
      "metadata": {
        "colab": {
          "base_uri": "https://localhost:8080/",
          "height": 35
        },
        "id": "v1-IatHpn6gS",
        "outputId": "5a128809-c1d4-4d81-ffdc-6e4611f121a3"
      },
      "source": [
        "# Uncomment in Jupyter Notebook but comment it in Google Colab\n",
        "\"\"\"\n",
        "df = pd.read_csv(\"Bank_dataset.csv\")\n",
        "\n",
        "\"\"\""
      ],
      "execution_count": null,
      "outputs": [
        {
          "output_type": "execute_result",
          "data": {
            "application/vnd.google.colaboratory.intrinsic+json": {
              "type": "string"
            },
            "text/plain": [
              "'\\ndf = pd.read_csv(\"Bank_dataset.csv\")\\n\\n'"
            ]
          },
          "metadata": {},
          "execution_count": 6
        }
      ]
    },
    {
      "cell_type": "code",
      "metadata": {
        "colab": {
          "base_uri": "https://localhost:8080/"
        },
        "id": "YfqoYu4I4mnE",
        "scrolled": true,
        "outputId": "fe6462ec-ebaa-4176-ed6d-70e1f205b493"
      },
      "source": [
        "# Comment this in Jupyter Notebook but uncomment it in Google Colab\n",
        "\n",
        "from google.colab import drive\n",
        "drive.mount('/content/drive')\n"
      ],
      "execution_count": null,
      "outputs": [
        {
          "output_type": "stream",
          "name": "stdout",
          "text": [
            "Drive already mounted at /content/drive; to attempt to forcibly remount, call drive.mount(\"/content/drive\", force_remount=True).\n"
          ]
        }
      ]
    },
    {
      "cell_type": "code",
      "metadata": {
        "id": "Lpr1KqETMTY4",
        "colab": {
          "base_uri": "https://localhost:8080/",
          "height": 200
        },
        "outputId": "a454c8ea-5760-47ec-9ec6-8ae5e37ebdfd"
      },
      "source": [
        "# Comment this in Jupyter Notebook but uncomment it in Google Colab\n",
        "path = \"/content/drive/MyDrive/Projects/Bank_dataset.csv\"\n",
        "df = pd.read_csv(path)"
      ],
      "execution_count": null,
      "outputs": [
        {
          "output_type": "error",
          "ename": "NameError",
          "evalue": "ignored",
          "traceback": [
            "\u001b[0;31m---------------------------------------------------------------------------\u001b[0m",
            "\u001b[0;31mNameError\u001b[0m                                 Traceback (most recent call last)",
            "\u001b[0;32m<ipython-input-1-943074feec40>\u001b[0m in \u001b[0;36m<module>\u001b[0;34m()\u001b[0m\n\u001b[1;32m      1\u001b[0m \u001b[0;31m# Comment this in Jupyter Notebook but uncomment it in Google Colab\u001b[0m\u001b[0;34m\u001b[0m\u001b[0;34m\u001b[0m\u001b[0;34m\u001b[0m\u001b[0m\n\u001b[1;32m      2\u001b[0m \u001b[0mpath\u001b[0m \u001b[0;34m=\u001b[0m \u001b[0;34m\"/content/drive/MyDrive/Projects/Bank_dataset.csv\"\u001b[0m\u001b[0;34m\u001b[0m\u001b[0;34m\u001b[0m\u001b[0m\n\u001b[0;32m----> 3\u001b[0;31m \u001b[0mdf\u001b[0m \u001b[0;34m=\u001b[0m \u001b[0mpd\u001b[0m\u001b[0;34m.\u001b[0m\u001b[0mread_csv\u001b[0m\u001b[0;34m(\u001b[0m\u001b[0mpath\u001b[0m\u001b[0;34m)\u001b[0m\u001b[0;34m\u001b[0m\u001b[0;34m\u001b[0m\u001b[0m\n\u001b[0m",
            "\u001b[0;31mNameError\u001b[0m: name 'pd' is not defined"
          ]
        }
      ]
    },
    {
      "cell_type": "code",
      "metadata": {
        "colab": {
          "base_uri": "https://localhost:8080/",
          "height": 244
        },
        "id": "NAI7rFlC6ieq",
        "outputId": "60771069-8fcf-41f4-a73d-d16810542889"
      },
      "source": [
        "df.head()"
      ],
      "execution_count": null,
      "outputs": [
        {
          "output_type": "execute_result",
          "data": {
            "text/html": [
              "<div>\n",
              "<style scoped>\n",
              "    .dataframe tbody tr th:only-of-type {\n",
              "        vertical-align: middle;\n",
              "    }\n",
              "\n",
              "    .dataframe tbody tr th {\n",
              "        vertical-align: top;\n",
              "    }\n",
              "\n",
              "    .dataframe thead th {\n",
              "        text-align: right;\n",
              "    }\n",
              "</style>\n",
              "<table border=\"1\" class=\"dataframe\">\n",
              "  <thead>\n",
              "    <tr style=\"text-align: right;\">\n",
              "      <th></th>\n",
              "      <th>Unnamed: 0</th>\n",
              "      <th>label</th>\n",
              "      <th>msisdn</th>\n",
              "      <th>aon</th>\n",
              "      <th>daily_decr30</th>\n",
              "      <th>daily_decr90</th>\n",
              "      <th>rental30</th>\n",
              "      <th>rental90</th>\n",
              "      <th>last_rech_date_ma</th>\n",
              "      <th>last_rech_date_da</th>\n",
              "      <th>last_rech_amt_ma</th>\n",
              "      <th>cnt_ma_rech30</th>\n",
              "      <th>fr_ma_rech30</th>\n",
              "      <th>sumamnt_ma_rech30</th>\n",
              "      <th>medianamnt_ma_rech30</th>\n",
              "      <th>medianmarechprebal30</th>\n",
              "      <th>cnt_ma_rech90</th>\n",
              "      <th>fr_ma_rech90</th>\n",
              "      <th>sumamnt_ma_rech90</th>\n",
              "      <th>medianamnt_ma_rech90</th>\n",
              "      <th>medianmarechprebal90</th>\n",
              "      <th>cnt_da_rech30</th>\n",
              "      <th>fr_da_rech30</th>\n",
              "      <th>cnt_da_rech90</th>\n",
              "      <th>fr_da_rech90</th>\n",
              "      <th>cnt_loans30</th>\n",
              "      <th>amnt_loans30</th>\n",
              "      <th>maxamnt_loans30</th>\n",
              "      <th>medianamnt_loans30</th>\n",
              "      <th>cnt_loans90</th>\n",
              "      <th>amnt_loans90</th>\n",
              "      <th>maxamnt_loans90</th>\n",
              "      <th>medianamnt_loans90</th>\n",
              "      <th>payback30</th>\n",
              "      <th>payback90</th>\n",
              "      <th>pcircle</th>\n",
              "      <th>pdate</th>\n",
              "    </tr>\n",
              "  </thead>\n",
              "  <tbody>\n",
              "    <tr>\n",
              "      <th>0</th>\n",
              "      <td>1</td>\n",
              "      <td>0</td>\n",
              "      <td>21408I70789</td>\n",
              "      <td>272</td>\n",
              "      <td>3055.05</td>\n",
              "      <td>3065.15</td>\n",
              "      <td>220.13</td>\n",
              "      <td>260.13</td>\n",
              "      <td>2.0</td>\n",
              "      <td>0.0</td>\n",
              "      <td>1539</td>\n",
              "      <td>2</td>\n",
              "      <td>21.0</td>\n",
              "      <td>3078.0</td>\n",
              "      <td>1539.0</td>\n",
              "      <td>7.50</td>\n",
              "      <td>2</td>\n",
              "      <td>21</td>\n",
              "      <td>3078</td>\n",
              "      <td>1539.0</td>\n",
              "      <td>7.50</td>\n",
              "      <td>0.0</td>\n",
              "      <td>0.0</td>\n",
              "      <td>0</td>\n",
              "      <td>0</td>\n",
              "      <td>2</td>\n",
              "      <td>12</td>\n",
              "      <td>6.0</td>\n",
              "      <td>0.0</td>\n",
              "      <td>2.0</td>\n",
              "      <td>12</td>\n",
              "      <td>6</td>\n",
              "      <td>0.0</td>\n",
              "      <td>29.000000</td>\n",
              "      <td>29.000000</td>\n",
              "      <td>UPW</td>\n",
              "      <td>7/20/2016</td>\n",
              "    </tr>\n",
              "    <tr>\n",
              "      <th>1</th>\n",
              "      <td>2</td>\n",
              "      <td>1</td>\n",
              "      <td>76462I70374</td>\n",
              "      <td>712</td>\n",
              "      <td>12122</td>\n",
              "      <td>12124.75</td>\n",
              "      <td>3691.26</td>\n",
              "      <td>3691.26</td>\n",
              "      <td>20.0</td>\n",
              "      <td>0.0</td>\n",
              "      <td>5787</td>\n",
              "      <td>1</td>\n",
              "      <td>0.0</td>\n",
              "      <td>5787.0</td>\n",
              "      <td>5787.0</td>\n",
              "      <td>61.04</td>\n",
              "      <td>1</td>\n",
              "      <td>0</td>\n",
              "      <td>5787</td>\n",
              "      <td>5787.0</td>\n",
              "      <td>61.04</td>\n",
              "      <td>0.0</td>\n",
              "      <td>0.0</td>\n",
              "      <td>0</td>\n",
              "      <td>0</td>\n",
              "      <td>1</td>\n",
              "      <td>12</td>\n",
              "      <td>12.0</td>\n",
              "      <td>0.0</td>\n",
              "      <td>1.0</td>\n",
              "      <td>12</td>\n",
              "      <td>12</td>\n",
              "      <td>0.0</td>\n",
              "      <td>0.000000</td>\n",
              "      <td>0.000000</td>\n",
              "      <td>UPW</td>\n",
              "      <td>8/10/2016</td>\n",
              "    </tr>\n",
              "    <tr>\n",
              "      <th>2</th>\n",
              "      <td>3</td>\n",
              "      <td>1</td>\n",
              "      <td>17943I70372</td>\n",
              "      <td>535</td>\n",
              "      <td>1398</td>\n",
              "      <td>1398</td>\n",
              "      <td>900.13</td>\n",
              "      <td>900.13</td>\n",
              "      <td>3.0</td>\n",
              "      <td>0.0</td>\n",
              "      <td>1539</td>\n",
              "      <td>1</td>\n",
              "      <td>0.0</td>\n",
              "      <td>1539.0</td>\n",
              "      <td>1539.0</td>\n",
              "      <td>66.32</td>\n",
              "      <td>1</td>\n",
              "      <td>0</td>\n",
              "      <td>1539</td>\n",
              "      <td>1539.0</td>\n",
              "      <td>66.32</td>\n",
              "      <td>0.0</td>\n",
              "      <td>0.0</td>\n",
              "      <td>0</td>\n",
              "      <td>0</td>\n",
              "      <td>1</td>\n",
              "      <td>6</td>\n",
              "      <td>6.0</td>\n",
              "      <td>0.0</td>\n",
              "      <td>1.0</td>\n",
              "      <td>6</td>\n",
              "      <td>6</td>\n",
              "      <td>0.0</td>\n",
              "      <td>0.000000</td>\n",
              "      <td>0.000000</td>\n",
              "      <td>UPW</td>\n",
              "      <td>8/19/2016</td>\n",
              "    </tr>\n",
              "    <tr>\n",
              "      <th>3</th>\n",
              "      <td>4</td>\n",
              "      <td>1</td>\n",
              "      <td>55773I70781</td>\n",
              "      <td>241</td>\n",
              "      <td>21.228</td>\n",
              "      <td>21.228</td>\n",
              "      <td>159.42</td>\n",
              "      <td>159.42</td>\n",
              "      <td>41.0</td>\n",
              "      <td>0.0</td>\n",
              "      <td>947</td>\n",
              "      <td>0</td>\n",
              "      <td>0.0</td>\n",
              "      <td>0.0</td>\n",
              "      <td>0.0</td>\n",
              "      <td>0.00</td>\n",
              "      <td>1</td>\n",
              "      <td>0</td>\n",
              "      <td>947</td>\n",
              "      <td>947.0</td>\n",
              "      <td>2.50</td>\n",
              "      <td>0.0</td>\n",
              "      <td>0.0</td>\n",
              "      <td>0</td>\n",
              "      <td>0</td>\n",
              "      <td>2</td>\n",
              "      <td>12</td>\n",
              "      <td>6.0</td>\n",
              "      <td>0.0</td>\n",
              "      <td>2.0</td>\n",
              "      <td>12</td>\n",
              "      <td>6</td>\n",
              "      <td>0.0</td>\n",
              "      <td>0.000000</td>\n",
              "      <td>0.000000</td>\n",
              "      <td>UPW</td>\n",
              "      <td>6/6/2016</td>\n",
              "    </tr>\n",
              "    <tr>\n",
              "      <th>4</th>\n",
              "      <td>5</td>\n",
              "      <td>1</td>\n",
              "      <td>03813I82730</td>\n",
              "      <td>947</td>\n",
              "      <td>150.6193333</td>\n",
              "      <td>150.6193333</td>\n",
              "      <td>1098.9</td>\n",
              "      <td>1098.9</td>\n",
              "      <td>4.0</td>\n",
              "      <td>0.0</td>\n",
              "      <td>2309</td>\n",
              "      <td>7</td>\n",
              "      <td>2.0</td>\n",
              "      <td>20029.0</td>\n",
              "      <td>2309.0</td>\n",
              "      <td>29.00</td>\n",
              "      <td>8</td>\n",
              "      <td>2</td>\n",
              "      <td>23496</td>\n",
              "      <td>2888.0</td>\n",
              "      <td>35.00</td>\n",
              "      <td>0.0</td>\n",
              "      <td>0.0</td>\n",
              "      <td>0</td>\n",
              "      <td>0</td>\n",
              "      <td>7</td>\n",
              "      <td>42</td>\n",
              "      <td>6.0</td>\n",
              "      <td>0.0</td>\n",
              "      <td>7.0</td>\n",
              "      <td>42</td>\n",
              "      <td>6</td>\n",
              "      <td>0.0</td>\n",
              "      <td>2.333333</td>\n",
              "      <td>2.333333</td>\n",
              "      <td>UPW</td>\n",
              "      <td>6/22/2016</td>\n",
              "    </tr>\n",
              "  </tbody>\n",
              "</table>\n",
              "</div>"
            ],
            "text/plain": [
              "   Unnamed: 0  label       msisdn  aon  ...  payback30  payback90 pcircle      pdate\n",
              "0           1      0  21408I70789  272  ...  29.000000  29.000000     UPW  7/20/2016\n",
              "1           2      1  76462I70374  712  ...   0.000000   0.000000     UPW  8/10/2016\n",
              "2           3      1  17943I70372  535  ...   0.000000   0.000000     UPW  8/19/2016\n",
              "3           4      1  55773I70781  241  ...   0.000000   0.000000     UPW   6/6/2016\n",
              "4           5      1  03813I82730  947  ...   2.333333   2.333333     UPW  6/22/2016\n",
              "\n",
              "[5 rows x 37 columns]"
            ]
          },
          "metadata": {},
          "execution_count": 49
        }
      ]
    },
    {
      "cell_type": "code",
      "metadata": {
        "id": "mLPboygz7EG6"
      },
      "source": [
        "#Droping the second column since its of no use to the dataset, to avoid data that will affect Model precision\n",
        "df.drop(axis = 1, columns = 'Unnamed: 0', inplace = True)"
      ],
      "execution_count": null,
      "outputs": []
    },
    {
      "cell_type": "code",
      "metadata": {
        "colab": {
          "base_uri": "https://localhost:8080/"
        },
        "id": "i0w8tPbo6uyr",
        "outputId": "ffe25e7c-52d8-4fe1-c304-ce8a0881cfeb"
      },
      "source": [
        "print('Shape of the dataset:', df.shape)"
      ],
      "execution_count": null,
      "outputs": [
        {
          "output_type": "stream",
          "name": "stdout",
          "text": [
            "Shape of the dataset: (190001, 36)\n"
          ]
        }
      ]
    },
    {
      "cell_type": "code",
      "metadata": {
        "colab": {
          "base_uri": "https://localhost:8080/"
        },
        "id": "NEztFDzs8XOB",
        "outputId": "1ddf207d-3766-4ba0-c75a-09542db61cbb"
      },
      "source": [
        "      df.info()"
      ],
      "execution_count": null,
      "outputs": [
        {
          "output_type": "stream",
          "name": "stdout",
          "text": [
            "<class 'pandas.core.frame.DataFrame'>\n",
            "RangeIndex: 190001 entries, 0 to 190000\n",
            "Data columns (total 36 columns):\n",
            " #   Column                Non-Null Count   Dtype  \n",
            "---  ------                --------------   -----  \n",
            " 0   label                 190001 non-null  int64  \n",
            " 1   msisdn                190001 non-null  object \n",
            " 2   aon                   190001 non-null  object \n",
            " 3   daily_decr30          190001 non-null  object \n",
            " 4   daily_decr90          190001 non-null  object \n",
            " 5   rental30              190001 non-null  object \n",
            " 6   rental90              190001 non-null  object \n",
            " 7   last_rech_date_ma     190001 non-null  float64\n",
            " 8   last_rech_date_da     190001 non-null  float64\n",
            " 9   last_rech_amt_ma      190001 non-null  int64  \n",
            " 10  cnt_ma_rech30         190001 non-null  int64  \n",
            " 11  fr_ma_rech30          190001 non-null  float64\n",
            " 12  sumamnt_ma_rech30     190001 non-null  float64\n",
            " 13  medianamnt_ma_rech30  190001 non-null  float64\n",
            " 14  medianmarechprebal30  190001 non-null  float64\n",
            " 15  cnt_ma_rech90         190001 non-null  int64  \n",
            " 16  fr_ma_rech90          190001 non-null  int64  \n",
            " 17  sumamnt_ma_rech90     190001 non-null  int64  \n",
            " 18  medianamnt_ma_rech90  190001 non-null  float64\n",
            " 19  medianmarechprebal90  190001 non-null  float64\n",
            " 20  cnt_da_rech30         190001 non-null  float64\n",
            " 21  fr_da_rech30          190001 non-null  float64\n",
            " 22  cnt_da_rech90         190001 non-null  int64  \n",
            " 23  fr_da_rech90          190001 non-null  int64  \n",
            " 24  cnt_loans30           190001 non-null  int64  \n",
            " 25  amnt_loans30          190001 non-null  int64  \n",
            " 26  maxamnt_loans30       190001 non-null  float64\n",
            " 27  medianamnt_loans30    190001 non-null  float64\n",
            " 28  cnt_loans90           190001 non-null  float64\n",
            " 29  amnt_loans90          190001 non-null  int64  \n",
            " 30  maxamnt_loans90       190001 non-null  int64  \n",
            " 31  medianamnt_loans90    190001 non-null  float64\n",
            " 32  payback30             190001 non-null  float64\n",
            " 33  payback90             190001 non-null  float64\n",
            " 34  pcircle               190001 non-null  object \n",
            " 35  pdate                 190001 non-null  object \n",
            "dtypes: float64(16), int64(12), object(8)\n",
            "memory usage: 52.2+ MB\n"
          ]
        }
      ]
    },
    {
      "cell_type": "code",
      "metadata": {
        "colab": {
          "base_uri": "https://localhost:8080/"
        },
        "id": "eZhWWekvPDAT",
        "outputId": "2dedb649-5131-440f-c6fa-467d08f1082e"
      },
      "source": [
        "df.index"
      ],
      "execution_count": null,
      "outputs": [
        {
          "output_type": "execute_result",
          "data": {
            "text/plain": [
              "RangeIndex(start=0, stop=190001, step=1)"
            ]
          },
          "metadata": {},
          "execution_count": 9
        }
      ]
    },
    {
      "cell_type": "code",
      "metadata": {
        "colab": {
          "base_uri": "https://localhost:8080/",
          "height": 320
        },
        "id": "98JU1jrU8ZkR",
        "outputId": "90a57365-80fd-4176-dfa2-2c1c0f72fc31"
      },
      "source": [
        "df.describe()"
      ],
      "execution_count": null,
      "outputs": [
        {
          "output_type": "execute_result",
          "data": {
            "text/html": [
              "<div>\n",
              "<style scoped>\n",
              "    .dataframe tbody tr th:only-of-type {\n",
              "        vertical-align: middle;\n",
              "    }\n",
              "\n",
              "    .dataframe tbody tr th {\n",
              "        vertical-align: top;\n",
              "    }\n",
              "\n",
              "    .dataframe thead th {\n",
              "        text-align: right;\n",
              "    }\n",
              "</style>\n",
              "<table border=\"1\" class=\"dataframe\">\n",
              "  <thead>\n",
              "    <tr style=\"text-align: right;\">\n",
              "      <th></th>\n",
              "      <th>label</th>\n",
              "      <th>last_rech_date_ma</th>\n",
              "      <th>last_rech_date_da</th>\n",
              "      <th>last_rech_amt_ma</th>\n",
              "      <th>cnt_ma_rech30</th>\n",
              "      <th>fr_ma_rech30</th>\n",
              "      <th>sumamnt_ma_rech30</th>\n",
              "      <th>medianamnt_ma_rech30</th>\n",
              "      <th>medianmarechprebal30</th>\n",
              "      <th>cnt_ma_rech90</th>\n",
              "      <th>fr_ma_rech90</th>\n",
              "      <th>sumamnt_ma_rech90</th>\n",
              "      <th>medianamnt_ma_rech90</th>\n",
              "      <th>medianmarechprebal90</th>\n",
              "      <th>cnt_da_rech30</th>\n",
              "      <th>fr_da_rech30</th>\n",
              "      <th>cnt_da_rech90</th>\n",
              "      <th>fr_da_rech90</th>\n",
              "      <th>cnt_loans30</th>\n",
              "      <th>amnt_loans30</th>\n",
              "      <th>maxamnt_loans30</th>\n",
              "      <th>medianamnt_loans30</th>\n",
              "      <th>cnt_loans90</th>\n",
              "      <th>amnt_loans90</th>\n",
              "      <th>maxamnt_loans90</th>\n",
              "      <th>medianamnt_loans90</th>\n",
              "      <th>payback30</th>\n",
              "      <th>payback90</th>\n",
              "    </tr>\n",
              "  </thead>\n",
              "  <tbody>\n",
              "    <tr>\n",
              "      <th>count</th>\n",
              "      <td>190001.000000</td>\n",
              "      <td>190001.000000</td>\n",
              "      <td>190001.000000</td>\n",
              "      <td>190001.000000</td>\n",
              "      <td>190001.000000</td>\n",
              "      <td>190001.000000</td>\n",
              "      <td>190001.000000</td>\n",
              "      <td>190001.000000</td>\n",
              "      <td>190001.000000</td>\n",
              "      <td>190001.000000</td>\n",
              "      <td>190001.000000</td>\n",
              "      <td>190001.000000</td>\n",
              "      <td>190001.000000</td>\n",
              "      <td>190001.000000</td>\n",
              "      <td>190001.000000</td>\n",
              "      <td>190001.000000</td>\n",
              "      <td>190001.000000</td>\n",
              "      <td>190001.000000</td>\n",
              "      <td>190001.000000</td>\n",
              "      <td>190001.000000</td>\n",
              "      <td>190001.000000</td>\n",
              "      <td>190001.000000</td>\n",
              "      <td>190001.000000</td>\n",
              "      <td>190001.000000</td>\n",
              "      <td>190001.000000</td>\n",
              "      <td>190001.000000</td>\n",
              "      <td>190001.000000</td>\n",
              "      <td>190001.000000</td>\n",
              "    </tr>\n",
              "    <tr>\n",
              "      <th>mean</th>\n",
              "      <td>0.875069</td>\n",
              "      <td>3735.346070</td>\n",
              "      <td>3731.710966</td>\n",
              "      <td>2065.118510</td>\n",
              "      <td>3.976926</td>\n",
              "      <td>3709.413953</td>\n",
              "      <td>7704.611360</td>\n",
              "      <td>1814.503916</td>\n",
              "      <td>3842.143205</td>\n",
              "      <td>6.314546</td>\n",
              "      <td>7.722838</td>\n",
              "      <td>12398.741633</td>\n",
              "      <td>1865.643265</td>\n",
              "      <td>92.215857</td>\n",
              "      <td>264.870805</td>\n",
              "      <td>3801.312382</td>\n",
              "      <td>0.041331</td>\n",
              "      <td>0.045721</td>\n",
              "      <td>2.758138</td>\n",
              "      <td>17.945621</td>\n",
              "      <td>276.634790</td>\n",
              "      <td>0.054160</td>\n",
              "      <td>18.364699</td>\n",
              "      <td>23.639181</td>\n",
              "      <td>6.701870</td>\n",
              "      <td>0.046289</td>\n",
              "      <td>3.401179</td>\n",
              "      <td>4.322936</td>\n",
              "    </tr>\n",
              "    <tr>\n",
              "      <th>std</th>\n",
              "      <td>0.330641</td>\n",
              "      <td>53814.346634</td>\n",
              "      <td>53558.030669</td>\n",
              "      <td>2375.847873</td>\n",
              "      <td>4.266573</td>\n",
              "      <td>53412.173826</td>\n",
              "      <td>10184.588317</td>\n",
              "      <td>2077.810950</td>\n",
              "      <td>53934.213470</td>\n",
              "      <td>7.210859</td>\n",
              "      <td>12.604832</td>\n",
              "      <td>16930.067984</td>\n",
              "      <td>2086.096739</td>\n",
              "      <td>367.153824</td>\n",
              "      <td>4202.457509</td>\n",
              "      <td>54312.648067</td>\n",
              "      <td>0.396700</td>\n",
              "      <td>0.946489</td>\n",
              "      <td>2.555767</td>\n",
              "      <td>17.390373</td>\n",
              "      <td>4267.364414</td>\n",
              "      <td>0.218396</td>\n",
              "      <td>223.312555</td>\n",
              "      <td>26.503844</td>\n",
              "      <td>2.102752</td>\n",
              "      <td>0.201153</td>\n",
              "      <td>8.836749</td>\n",
              "      <td>10.318272</td>\n",
              "    </tr>\n",
              "    <tr>\n",
              "      <th>min</th>\n",
              "      <td>0.000000</td>\n",
              "      <td>-29.000000</td>\n",
              "      <td>-29.000000</td>\n",
              "      <td>0.000000</td>\n",
              "      <td>0.000000</td>\n",
              "      <td>0.000000</td>\n",
              "      <td>0.000000</td>\n",
              "      <td>0.000000</td>\n",
              "      <td>-200.000000</td>\n",
              "      <td>0.000000</td>\n",
              "      <td>0.000000</td>\n",
              "      <td>0.000000</td>\n",
              "      <td>0.000000</td>\n",
              "      <td>-200.000000</td>\n",
              "      <td>0.000000</td>\n",
              "      <td>0.000000</td>\n",
              "      <td>0.000000</td>\n",
              "      <td>0.000000</td>\n",
              "      <td>0.000000</td>\n",
              "      <td>0.000000</td>\n",
              "      <td>0.000000</td>\n",
              "      <td>0.000000</td>\n",
              "      <td>0.000000</td>\n",
              "      <td>0.000000</td>\n",
              "      <td>0.000000</td>\n",
              "      <td>0.000000</td>\n",
              "      <td>0.000000</td>\n",
              "      <td>0.000000</td>\n",
              "    </tr>\n",
              "    <tr>\n",
              "      <th>25%</th>\n",
              "      <td>1.000000</td>\n",
              "      <td>1.000000</td>\n",
              "      <td>0.000000</td>\n",
              "      <td>770.000000</td>\n",
              "      <td>1.000000</td>\n",
              "      <td>0.000000</td>\n",
              "      <td>1540.000000</td>\n",
              "      <td>770.000000</td>\n",
              "      <td>11.000000</td>\n",
              "      <td>2.000000</td>\n",
              "      <td>0.000000</td>\n",
              "      <td>2317.000000</td>\n",
              "      <td>773.000000</td>\n",
              "      <td>14.600000</td>\n",
              "      <td>0.000000</td>\n",
              "      <td>0.000000</td>\n",
              "      <td>0.000000</td>\n",
              "      <td>0.000000</td>\n",
              "      <td>1.000000</td>\n",
              "      <td>6.000000</td>\n",
              "      <td>6.000000</td>\n",
              "      <td>0.000000</td>\n",
              "      <td>1.000000</td>\n",
              "      <td>6.000000</td>\n",
              "      <td>6.000000</td>\n",
              "      <td>0.000000</td>\n",
              "      <td>0.000000</td>\n",
              "      <td>0.000000</td>\n",
              "    </tr>\n",
              "    <tr>\n",
              "      <th>50%</th>\n",
              "      <td>1.000000</td>\n",
              "      <td>3.000000</td>\n",
              "      <td>0.000000</td>\n",
              "      <td>1539.000000</td>\n",
              "      <td>3.000000</td>\n",
              "      <td>2.000000</td>\n",
              "      <td>4628.000000</td>\n",
              "      <td>1539.000000</td>\n",
              "      <td>33.870000</td>\n",
              "      <td>4.000000</td>\n",
              "      <td>2.000000</td>\n",
              "      <td>7209.000000</td>\n",
              "      <td>1539.000000</td>\n",
              "      <td>36.000000</td>\n",
              "      <td>0.000000</td>\n",
              "      <td>0.000000</td>\n",
              "      <td>0.000000</td>\n",
              "      <td>0.000000</td>\n",
              "      <td>2.000000</td>\n",
              "      <td>12.000000</td>\n",
              "      <td>6.000000</td>\n",
              "      <td>0.000000</td>\n",
              "      <td>2.000000</td>\n",
              "      <td>12.000000</td>\n",
              "      <td>6.000000</td>\n",
              "      <td>0.000000</td>\n",
              "      <td>0.000000</td>\n",
              "      <td>1.666667</td>\n",
              "    </tr>\n",
              "    <tr>\n",
              "      <th>75%</th>\n",
              "      <td>1.000000</td>\n",
              "      <td>7.000000</td>\n",
              "      <td>0.000000</td>\n",
              "      <td>2309.000000</td>\n",
              "      <td>5.000000</td>\n",
              "      <td>6.000000</td>\n",
              "      <td>10008.000000</td>\n",
              "      <td>1924.000000</td>\n",
              "      <td>83.000000</td>\n",
              "      <td>8.000000</td>\n",
              "      <td>8.000000</td>\n",
              "      <td>16000.000000</td>\n",
              "      <td>1924.000000</td>\n",
              "      <td>79.300000</td>\n",
              "      <td>0.000000</td>\n",
              "      <td>0.000000</td>\n",
              "      <td>0.000000</td>\n",
              "      <td>0.000000</td>\n",
              "      <td>4.000000</td>\n",
              "      <td>24.000000</td>\n",
              "      <td>6.000000</td>\n",
              "      <td>0.000000</td>\n",
              "      <td>5.000000</td>\n",
              "      <td>30.000000</td>\n",
              "      <td>6.000000</td>\n",
              "      <td>0.000000</td>\n",
              "      <td>3.750000</td>\n",
              "      <td>4.500000</td>\n",
              "    </tr>\n",
              "    <tr>\n",
              "      <th>max</th>\n",
              "      <td>1.000000</td>\n",
              "      <td>997717.809600</td>\n",
              "      <td>999171.809400</td>\n",
              "      <td>55000.000000</td>\n",
              "      <td>203.000000</td>\n",
              "      <td>999606.368100</td>\n",
              "      <td>810096.000000</td>\n",
              "      <td>55000.000000</td>\n",
              "      <td>999479.419300</td>\n",
              "      <td>336.000000</td>\n",
              "      <td>88.000000</td>\n",
              "      <td>953036.000000</td>\n",
              "      <td>55000.000000</td>\n",
              "      <td>41456.500000</td>\n",
              "      <td>99842.336330</td>\n",
              "      <td>999809.240100</td>\n",
              "      <td>38.000000</td>\n",
              "      <td>57.000000</td>\n",
              "      <td>50.000000</td>\n",
              "      <td>306.000000</td>\n",
              "      <td>99864.560860</td>\n",
              "      <td>3.000000</td>\n",
              "      <td>4997.517944</td>\n",
              "      <td>438.000000</td>\n",
              "      <td>12.000000</td>\n",
              "      <td>3.000000</td>\n",
              "      <td>171.500000</td>\n",
              "      <td>171.500000</td>\n",
              "    </tr>\n",
              "  </tbody>\n",
              "</table>\n",
              "</div>"
            ],
            "text/plain": [
              "               label  last_rech_date_ma  ...      payback30      payback90\n",
              "count  190001.000000      190001.000000  ...  190001.000000  190001.000000\n",
              "mean        0.875069        3735.346070  ...       3.401179       4.322936\n",
              "std         0.330641       53814.346634  ...       8.836749      10.318272\n",
              "min         0.000000         -29.000000  ...       0.000000       0.000000\n",
              "25%         1.000000           1.000000  ...       0.000000       0.000000\n",
              "50%         1.000000           3.000000  ...       0.000000       1.666667\n",
              "75%         1.000000           7.000000  ...       3.750000       4.500000\n",
              "max         1.000000      997717.809600  ...     171.500000     171.500000\n",
              "\n",
              "[8 rows x 28 columns]"
            ]
          },
          "metadata": {},
          "execution_count": 10
        }
      ]
    },
    {
      "cell_type": "code",
      "metadata": {
        "colab": {
          "base_uri": "https://localhost:8080/"
        },
        "id": "up8uybm962j0",
        "outputId": "981be76c-abc8-4735-e209-7520e1d0120a"
      },
      "source": [
        "df.isnull().sum()"
      ],
      "execution_count": null,
      "outputs": [
        {
          "output_type": "execute_result",
          "data": {
            "text/plain": [
              "label                   0\n",
              "msisdn                  0\n",
              "aon                     0\n",
              "daily_decr30            0\n",
              "daily_decr90            0\n",
              "rental30                0\n",
              "rental90                0\n",
              "last_rech_date_ma       0\n",
              "last_rech_date_da       0\n",
              "last_rech_amt_ma        0\n",
              "cnt_ma_rech30           0\n",
              "fr_ma_rech30            0\n",
              "sumamnt_ma_rech30       0\n",
              "medianamnt_ma_rech30    0\n",
              "medianmarechprebal30    0\n",
              "cnt_ma_rech90           0\n",
              "fr_ma_rech90            0\n",
              "sumamnt_ma_rech90       0\n",
              "medianamnt_ma_rech90    0\n",
              "medianmarechprebal90    0\n",
              "cnt_da_rech30           0\n",
              "fr_da_rech30            0\n",
              "cnt_da_rech90           0\n",
              "fr_da_rech90            0\n",
              "cnt_loans30             0\n",
              "amnt_loans30            0\n",
              "maxamnt_loans30         0\n",
              "medianamnt_loans30      0\n",
              "cnt_loans90             0\n",
              "amnt_loans90            0\n",
              "maxamnt_loans90         0\n",
              "medianamnt_loans90      0\n",
              "payback30               0\n",
              "payback90               0\n",
              "pcircle                 0\n",
              "pdate                   0\n",
              "dtype: int64"
            ]
          },
          "metadata": {},
          "execution_count": 11
        }
      ]
    },
    {
      "cell_type": "code",
      "metadata": {
        "colab": {
          "base_uri": "https://localhost:8080/",
          "height": 396
        },
        "id": "LfAI5dG-8b6a",
        "outputId": "cca96cb2-04a0-4611-a053-0833c1f59b8e"
      },
      "source": [
        "sns.heatmap(df.isnull(), yticklabels = False, cbar = False, cmap = 'Accent')"
      ],
      "execution_count": null,
      "outputs": [
        {
          "output_type": "execute_result",
          "data": {
            "text/plain": [
              "<matplotlib.axes._subplots.AxesSubplot at 0x7fe97eae00d0>"
            ]
          },
          "metadata": {},
          "execution_count": 12
        },
        {
          "output_type": "display_data",
          "data": {
            "image/png": "[encoded data removed]",
            "text/plain": [
              "<Figure size 432x288 with 1 Axes>"
            ]
          },
          "metadata": {
            "needs_background": "light"
          }
        }
      ]
    },
    {
      "cell_type": "code",
      "metadata": {
        "colab": {
          "base_uri": "https://localhost:8080/"
        },
        "id": "nXyNiXqmHLOf",
        "outputId": "e6c7afb0-f985-4607-a79d-6458cdf8b435"
      },
      "source": [
        "# Count the occurrences of fraud and no fraud and print them\n",
        "fraud_flag = df['label'].value_counts()\n",
        "fraud_flag"
      ],
      "execution_count": null,
      "outputs": [
        {
          "output_type": "execute_result",
          "data": {
            "text/plain": [
              "1    166264\n",
              "0     23737\n",
              "Name: label, dtype: int64"
            ]
          },
          "metadata": {},
          "execution_count": 13
        }
      ]
    },
    {
      "cell_type": "code",
      "metadata": {
        "colab": {
          "base_uri": "https://localhost:8080/"
        },
        "id": "M-2F-9_pIY2O",
        "outputId": "bfc374ac-44ce-43e8-bd19-46b08c90a34c"
      },
      "source": [
        "# Printing the ratio of fraud cases\n",
        "fraud_ratio_cases = fraud_flag/len(df.index)\n",
        "print(f'Ratio of fraudulent cases: {fraud_ratio_cases[0]}\\nRatio of non-fraudulent cases: {fraud_ratio_cases[1]}')"
      ],
      "execution_count": null,
      "outputs": [
        {
          "output_type": "stream",
          "name": "stdout",
          "text": [
            "Ratio of fraudulent cases: 0.12493092141620307\n",
            "Ratio of non-fraudulent cases: 0.8750690785837969\n"
          ]
        }
      ]
    },
    {
      "cell_type": "code",
      "metadata": {
        "colab": {
          "base_uri": "https://localhost:8080/"
        },
        "id": "uZTLuwO5-xwZ",
        "outputId": "dd28690d-de76-4cd9-b2b3-32f455cc0e44"
      },
      "source": [
        "# Determine number of fraud cases in dataset\n",
        "Fraud = df[df['label'] == 0]\n",
        "Valid = df[df['label'] == 1]\n",
        "outlier_fraction = len(Fraud)/float(len(Valid))\n",
        "print('Outlier frction: {}'.format(outlier_fraction))\n",
        "print('Fraud Cases: {}'.format(len(df[df['label'] == 1])))\n",
        "print('Valid Transactions: {}'.format(len(df[df['label'] == 0])))"
      ],
      "execution_count": null,
      "outputs": [
        {
          "output_type": "stream",
          "name": "stdout",
          "text": [
            "Outlier frction: 0.14276692489053552\n",
            "Fraud Cases: 166264\n",
            "Valid Transactions: 23737\n"
          ]
        }
      ]
    },
    {
      "cell_type": "code",
      "metadata": {
        "colab": {
          "base_uri": "https://localhost:8080/"
        },
        "id": "9BQ0dDFZSM_H",
        "outputId": "c31de457-fd73-4608-d47e-5f50a5022340"
      },
      "source": [
        "refunded = len(df[df.label == 1])\n",
        "not_refunded = len(df[df.label == 0])\n",
        "fraud_percent = (not_refunded / (not_refunded + refunded)) * 100\n",
        "print(\"Number of refunded loan: \", refunded)\n",
        "print(\"Number of loan not refunded: \", not_refunded)\n",
        "print(\"Percentage of Fraud transactions: {:.4f}\".format(fraud_percent),\"%\")"
      ],
      "execution_count": null,
      "outputs": [
        {
          "output_type": "stream",
          "name": "stdout",
          "text": [
            "Number of refunded loan:  166264\n",
            "Number of loan not refunded:  23737\n",
            "Percentage of Fraud transactions: 12.4931 %\n"
          ]
        }
      ]
    },
    {
      "cell_type": "code",
      "metadata": {
        "colab": {
          "base_uri": "https://localhost:8080/",
          "height": 296
        },
        "id": "mmtAm34DSPX-",
        "outputId": "a5b65bff-21a1-46d3-b215-7e05fad042ed"
      },
      "source": [
        "\n",
        "labels = [\"refunded\", \"not_refunded\"]\n",
        "count_classes = df.value_counts(df['label'], sort= True)\n",
        "count_classes.plot(kind = \"bar\", rot = 0)\n",
        "plt.title(\"Visualization of Labels\")\n",
        "plt.ylabel(\"Count\")\n",
        "plt.xticks(range(2), labels)\n",
        "plt.show()"
      ],
      "execution_count": null,
      "outputs": [
        {
          "output_type": "display_data",
          "data": {
            "image/png": "[encoded data removed]",
            "text/plain": [
              "<Figure size 432x288 with 1 Axes>"
            ]
          },
          "metadata": {
            "needs_background": "light"
          }
        }
      ]
    },
    {
      "cell_type": "code",
      "metadata": {
        "colab": {
          "base_uri": "https://localhost:8080/"
        },
        "id": "MosIq4ttFT8Z",
        "outputId": "acfbcca9-491c-426d-c75f-5a465adae673"
      },
      "source": [
        "corr = df.corr()\n",
        "corr.shape"
      ],
      "execution_count": null,
      "outputs": [
        {
          "output_type": "execute_result",
          "data": {
            "text/plain": [
              "(28, 28)"
            ]
          },
          "metadata": {},
          "execution_count": 18
        }
      ]
    },
    {
      "cell_type": "code",
      "metadata": {
        "colab": {
          "base_uri": "https://localhost:8080/",
          "height": 947
        },
        "id": "9ltVEkpKU2Fi",
        "outputId": "72a05c23-8297-4858-8ece-fd0e0fbbec43"
      },
      "source": [
        "corr"
      ],
      "execution_count": null,
      "outputs": [
        {
          "output_type": "execute_result",
          "data": {
            "text/html": [
              "<div>\n",
              "<style scoped>\n",
              "    .dataframe tbody tr th:only-of-type {\n",
              "        vertical-align: middle;\n",
              "    }\n",
              "\n",
              "    .dataframe tbody tr th {\n",
              "        vertical-align: top;\n",
              "    }\n",
              "\n",
              "    .dataframe thead th {\n",
              "        text-align: right;\n",
              "    }\n",
              "</style>\n",
              "<table border=\"1\" class=\"dataframe\">\n",
              "  <thead>\n",
              "    <tr style=\"text-align: right;\">\n",
              "      <th></th>\n",
              "      <th>label</th>\n",
              "      <th>last_rech_date_ma</th>\n",
              "      <th>last_rech_date_da</th>\n",
              "      <th>last_rech_amt_ma</th>\n",
              "      <th>cnt_ma_rech30</th>\n",
              "      <th>fr_ma_rech30</th>\n",
              "      <th>sumamnt_ma_rech30</th>\n",
              "      <th>medianamnt_ma_rech30</th>\n",
              "      <th>medianmarechprebal30</th>\n",
              "      <th>cnt_ma_rech90</th>\n",
              "      <th>fr_ma_rech90</th>\n",
              "      <th>sumamnt_ma_rech90</th>\n",
              "      <th>medianamnt_ma_rech90</th>\n",
              "      <th>medianmarechprebal90</th>\n",
              "      <th>cnt_da_rech30</th>\n",
              "      <th>fr_da_rech30</th>\n",
              "      <th>cnt_da_rech90</th>\n",
              "      <th>fr_da_rech90</th>\n",
              "      <th>cnt_loans30</th>\n",
              "      <th>amnt_loans30</th>\n",
              "      <th>maxamnt_loans30</th>\n",
              "      <th>medianamnt_loans30</th>\n",
              "      <th>cnt_loans90</th>\n",
              "      <th>amnt_loans90</th>\n",
              "      <th>maxamnt_loans90</th>\n",
              "      <th>medianamnt_loans90</th>\n",
              "      <th>payback30</th>\n",
              "      <th>payback90</th>\n",
              "    </tr>\n",
              "  </thead>\n",
              "  <tbody>\n",
              "    <tr>\n",
              "      <th>label</th>\n",
              "      <td>1.000000</td>\n",
              "      <td>0.003078</td>\n",
              "      <td>0.002682</td>\n",
              "      <td>0.130805</td>\n",
              "      <td>0.236859</td>\n",
              "      <td>0.000507</td>\n",
              "      <td>0.202064</td>\n",
              "      <td>0.140745</td>\n",
              "      <td>-0.004101</td>\n",
              "      <td>0.235895</td>\n",
              "      <td>0.083986</td>\n",
              "      <td>0.205036</td>\n",
              "      <td>0.119931</td>\n",
              "      <td>0.038814</td>\n",
              "      <td>0.003570</td>\n",
              "      <td>-0.000746</td>\n",
              "      <td>0.002973</td>\n",
              "      <td>-0.005697</td>\n",
              "      <td>0.196452</td>\n",
              "      <td>0.197388</td>\n",
              "      <td>0.000295</td>\n",
              "      <td>0.044759</td>\n",
              "      <td>0.004201</td>\n",
              "      <td>0.199722</td>\n",
              "      <td>0.084151</td>\n",
              "      <td>0.036027</td>\n",
              "      <td>0.048064</td>\n",
              "      <td>0.048983</td>\n",
              "    </tr>\n",
              "    <tr>\n",
              "      <th>last_rech_date_ma</th>\n",
              "      <td>0.003078</td>\n",
              "      <td>1.000000</td>\n",
              "      <td>0.001002</td>\n",
              "      <td>0.000102</td>\n",
              "      <td>0.004945</td>\n",
              "      <td>-0.001243</td>\n",
              "      <td>0.002749</td>\n",
              "      <td>-0.001099</td>\n",
              "      <td>0.005041</td>\n",
              "      <td>0.005222</td>\n",
              "      <td>0.000155</td>\n",
              "      <td>0.003289</td>\n",
              "      <td>-0.000597</td>\n",
              "      <td>-0.002470</td>\n",
              "      <td>-0.003380</td>\n",
              "      <td>-0.003519</td>\n",
              "      <td>-0.003736</td>\n",
              "      <td>-0.002295</td>\n",
              "      <td>0.002420</td>\n",
              "      <td>0.002083</td>\n",
              "      <td>0.000535</td>\n",
              "      <td>0.002246</td>\n",
              "      <td>0.000326</td>\n",
              "      <td>0.002368</td>\n",
              "      <td>-0.000835</td>\n",
              "      <td>0.003654</td>\n",
              "      <td>-0.001790</td>\n",
              "      <td>-0.001634</td>\n",
              "    </tr>\n",
              "    <tr>\n",
              "      <th>last_rech_date_da</th>\n",
              "      <td>0.002682</td>\n",
              "      <td>0.001002</td>\n",
              "      <td>1.000000</td>\n",
              "      <td>0.000353</td>\n",
              "      <td>0.000989</td>\n",
              "      <td>-0.000790</td>\n",
              "      <td>-0.000748</td>\n",
              "      <td>0.001272</td>\n",
              "      <td>0.003624</td>\n",
              "      <td>0.000578</td>\n",
              "      <td>0.000512</td>\n",
              "      <td>-0.001206</td>\n",
              "      <td>0.000310</td>\n",
              "      <td>0.004765</td>\n",
              "      <td>-0.003585</td>\n",
              "      <td>0.000321</td>\n",
              "      <td>-0.001538</td>\n",
              "      <td>0.000101</td>\n",
              "      <td>-0.000224</td>\n",
              "      <td>-0.000086</td>\n",
              "      <td>0.000943</td>\n",
              "      <td>0.000044</td>\n",
              "      <td>-0.002847</td>\n",
              "      <td>0.000055</td>\n",
              "      <td>0.001906</td>\n",
              "      <td>-0.002535</td>\n",
              "      <td>0.000313</td>\n",
              "      <td>0.000870</td>\n",
              "    </tr>\n",
              "    <tr>\n",
              "      <th>last_rech_amt_ma</th>\n",
              "      <td>0.130805</td>\n",
              "      <td>0.000102</td>\n",
              "      <td>0.000353</td>\n",
              "      <td>1.000000</td>\n",
              "      <td>-0.002352</td>\n",
              "      <td>0.002028</td>\n",
              "      <td>0.439998</td>\n",
              "      <td>0.795247</td>\n",
              "      <td>-0.001917</td>\n",
              "      <td>0.016989</td>\n",
              "      <td>0.106602</td>\n",
              "      <td>0.417695</td>\n",
              "      <td>0.818428</td>\n",
              "      <td>0.124861</td>\n",
              "      <td>-0.001642</td>\n",
              "      <td>-0.003942</td>\n",
              "      <td>0.015144</td>\n",
              "      <td>0.016966</td>\n",
              "      <td>-0.027524</td>\n",
              "      <td>0.008792</td>\n",
              "      <td>0.001117</td>\n",
              "      <td>0.028081</td>\n",
              "      <td>-0.000060</td>\n",
              "      <td>0.014030</td>\n",
              "      <td>0.148354</td>\n",
              "      <td>0.021031</td>\n",
              "      <td>-0.027908</td>\n",
              "      <td>-0.015397</td>\n",
              "    </tr>\n",
              "    <tr>\n",
              "      <th>cnt_ma_rech30</th>\n",
              "      <td>0.236859</td>\n",
              "      <td>0.004945</td>\n",
              "      <td>0.000989</td>\n",
              "      <td>-0.002352</td>\n",
              "      <td>1.000000</td>\n",
              "      <td>0.000788</td>\n",
              "      <td>0.656250</td>\n",
              "      <td>-0.011852</td>\n",
              "      <td>0.000891</td>\n",
              "      <td>0.886726</td>\n",
              "      <td>-0.152642</td>\n",
              "      <td>0.583667</td>\n",
              "      <td>-0.051056</td>\n",
              "      <td>0.014651</td>\n",
              "      <td>0.002549</td>\n",
              "      <td>-0.003478</td>\n",
              "      <td>0.010757</td>\n",
              "      <td>0.007645</td>\n",
              "      <td>0.765105</td>\n",
              "      <td>0.751609</td>\n",
              "      <td>0.000545</td>\n",
              "      <td>-0.067176</td>\n",
              "      <td>0.014765</td>\n",
              "      <td>0.684428</td>\n",
              "      <td>0.174136</td>\n",
              "      <td>-0.071337</td>\n",
              "      <td>0.043171</td>\n",
              "      <td>0.017087</td>\n",
              "    </tr>\n",
              "    <tr>\n",
              "      <th>fr_ma_rech30</th>\n",
              "      <td>0.000507</td>\n",
              "      <td>-0.001243</td>\n",
              "      <td>-0.000790</td>\n",
              "      <td>0.002028</td>\n",
              "      <td>0.000788</td>\n",
              "      <td>1.000000</td>\n",
              "      <td>-0.000216</td>\n",
              "      <td>-0.001525</td>\n",
              "      <td>0.002093</td>\n",
              "      <td>0.000467</td>\n",
              "      <td>-0.001395</td>\n",
              "      <td>-0.001307</td>\n",
              "      <td>-0.001959</td>\n",
              "      <td>-0.002998</td>\n",
              "      <td>-0.000119</td>\n",
              "      <td>-0.001417</td>\n",
              "      <td>0.001011</td>\n",
              "      <td>-0.001771</td>\n",
              "      <td>0.001674</td>\n",
              "      <td>0.001361</td>\n",
              "      <td>-0.002040</td>\n",
              "      <td>0.000086</td>\n",
              "      <td>0.004300</td>\n",
              "      <td>0.001763</td>\n",
              "      <td>-0.002195</td>\n",
              "      <td>-0.001451</td>\n",
              "      <td>0.000499</td>\n",
              "      <td>-0.000079</td>\n",
              "    </tr>\n",
              "    <tr>\n",
              "      <th>sumamnt_ma_rech30</th>\n",
              "      <td>0.202064</td>\n",
              "      <td>0.002749</td>\n",
              "      <td>-0.000748</td>\n",
              "      <td>0.439998</td>\n",
              "      <td>0.656250</td>\n",
              "      <td>-0.000216</td>\n",
              "      <td>1.000000</td>\n",
              "      <td>0.488314</td>\n",
              "      <td>0.000794</td>\n",
              "      <td>0.595742</td>\n",
              "      <td>-0.070755</td>\n",
              "      <td>0.890344</td>\n",
              "      <td>0.422104</td>\n",
              "      <td>0.094397</td>\n",
              "      <td>0.002738</td>\n",
              "      <td>-0.001678</td>\n",
              "      <td>0.017686</td>\n",
              "      <td>0.017503</td>\n",
              "      <td>0.490497</td>\n",
              "      <td>0.529878</td>\n",
              "      <td>0.001924</td>\n",
              "      <td>-0.034840</td>\n",
              "      <td>0.009468</td>\n",
              "      <td>0.483161</td>\n",
              "      <td>0.258299</td>\n",
              "      <td>-0.042354</td>\n",
              "      <td>-0.000140</td>\n",
              "      <td>-0.012756</td>\n",
              "    </tr>\n",
              "    <tr>\n",
              "      <th>medianamnt_ma_rech30</th>\n",
              "      <td>0.140745</td>\n",
              "      <td>-0.001099</td>\n",
              "      <td>0.001272</td>\n",
              "      <td>0.795247</td>\n",
              "      <td>-0.011852</td>\n",
              "      <td>-0.001525</td>\n",
              "      <td>0.488314</td>\n",
              "      <td>1.000000</td>\n",
              "      <td>-0.000585</td>\n",
              "      <td>0.005257</td>\n",
              "      <td>0.150315</td>\n",
              "      <td>0.448507</td>\n",
              "      <td>0.866292</td>\n",
              "      <td>0.163194</td>\n",
              "      <td>0.000283</td>\n",
              "      <td>-0.001990</td>\n",
              "      <td>0.015872</td>\n",
              "      <td>0.013749</td>\n",
              "      <td>-0.029985</td>\n",
              "      <td>0.007135</td>\n",
              "      <td>0.002496</td>\n",
              "      <td>0.032033</td>\n",
              "      <td>-0.001084</td>\n",
              "      <td>0.014433</td>\n",
              "      <td>0.159891</td>\n",
              "      <td>0.022367</td>\n",
              "      <td>-0.018504</td>\n",
              "      <td>-0.003251</td>\n",
              "    </tr>\n",
              "    <tr>\n",
              "      <th>medianmarechprebal30</th>\n",
              "      <td>-0.004101</td>\n",
              "      <td>0.005041</td>\n",
              "      <td>0.003624</td>\n",
              "      <td>-0.001917</td>\n",
              "      <td>0.000891</td>\n",
              "      <td>0.002093</td>\n",
              "      <td>0.000794</td>\n",
              "      <td>-0.000585</td>\n",
              "      <td>1.000000</td>\n",
              "      <td>0.001936</td>\n",
              "      <td>-0.001742</td>\n",
              "      <td>0.000270</td>\n",
              "      <td>-0.001265</td>\n",
              "      <td>0.000754</td>\n",
              "      <td>-0.003515</td>\n",
              "      <td>-0.000566</td>\n",
              "      <td>-0.002911</td>\n",
              "      <td>-0.001212</td>\n",
              "      <td>0.001205</td>\n",
              "      <td>0.001748</td>\n",
              "      <td>-0.001960</td>\n",
              "      <td>-0.002895</td>\n",
              "      <td>0.002048</td>\n",
              "      <td>0.002117</td>\n",
              "      <td>-0.001831</td>\n",
              "      <td>-0.002306</td>\n",
              "      <td>0.000941</td>\n",
              "      <td>0.001317</td>\n",
              "    </tr>\n",
              "    <tr>\n",
              "      <th>cnt_ma_rech90</th>\n",
              "      <td>0.235895</td>\n",
              "      <td>0.005222</td>\n",
              "      <td>0.000578</td>\n",
              "      <td>0.016989</td>\n",
              "      <td>0.886726</td>\n",
              "      <td>0.000467</td>\n",
              "      <td>0.595742</td>\n",
              "      <td>0.005257</td>\n",
              "      <td>0.001936</td>\n",
              "      <td>1.000000</td>\n",
              "      <td>-0.148927</td>\n",
              "      <td>0.686078</td>\n",
              "      <td>-0.035236</td>\n",
              "      <td>0.016447</td>\n",
              "      <td>0.002854</td>\n",
              "      <td>-0.003518</td>\n",
              "      <td>0.002804</td>\n",
              "      <td>0.003641</td>\n",
              "      <td>0.688916</td>\n",
              "      <td>0.707510</td>\n",
              "      <td>-0.000091</td>\n",
              "      <td>-0.054278</td>\n",
              "      <td>0.016373</td>\n",
              "      <td>0.783033</td>\n",
              "      <td>0.244171</td>\n",
              "      <td>-0.072572</td>\n",
              "      <td>0.011654</td>\n",
              "      <td>-0.003448</td>\n",
              "    </tr>\n",
              "    <tr>\n",
              "      <th>fr_ma_rech90</th>\n",
              "      <td>0.083986</td>\n",
              "      <td>0.000155</td>\n",
              "      <td>0.000512</td>\n",
              "      <td>0.106602</td>\n",
              "      <td>-0.152642</td>\n",
              "      <td>-0.001395</td>\n",
              "      <td>-0.070755</td>\n",
              "      <td>0.150315</td>\n",
              "      <td>-0.001742</td>\n",
              "      <td>-0.148927</td>\n",
              "      <td>1.000000</td>\n",
              "      <td>-0.065334</td>\n",
              "      <td>0.138586</td>\n",
              "      <td>0.005202</td>\n",
              "      <td>0.002088</td>\n",
              "      <td>-0.000043</td>\n",
              "      <td>-0.006762</td>\n",
              "      <td>-0.005826</td>\n",
              "      <td>-0.119333</td>\n",
              "      <td>-0.123870</td>\n",
              "      <td>0.000955</td>\n",
              "      <td>0.020606</td>\n",
              "      <td>-0.002497</td>\n",
              "      <td>-0.132162</td>\n",
              "      <td>-0.045677</td>\n",
              "      <td>0.016973</td>\n",
              "      <td>0.036801</td>\n",
              "      <td>0.077139</td>\n",
              "    </tr>\n",
              "    <tr>\n",
              "      <th>sumamnt_ma_rech90</th>\n",
              "      <td>0.205036</td>\n",
              "      <td>0.003289</td>\n",
              "      <td>-0.001206</td>\n",
              "      <td>0.417695</td>\n",
              "      <td>0.583667</td>\n",
              "      <td>-0.001307</td>\n",
              "      <td>0.890344</td>\n",
              "      <td>0.448507</td>\n",
              "      <td>0.000270</td>\n",
              "      <td>0.686078</td>\n",
              "      <td>-0.065334</td>\n",
              "      <td>1.000000</td>\n",
              "      <td>0.428913</td>\n",
              "      <td>0.098437</td>\n",
              "      <td>0.002559</td>\n",
              "      <td>-0.001754</td>\n",
              "      <td>0.010788</td>\n",
              "      <td>0.013592</td>\n",
              "      <td>0.442014</td>\n",
              "      <td>0.508187</td>\n",
              "      <td>0.001460</td>\n",
              "      <td>-0.022472</td>\n",
              "      <td>0.011848</td>\n",
              "      <td>0.561467</td>\n",
              "      <td>0.322288</td>\n",
              "      <td>-0.042628</td>\n",
              "      <td>-0.026518</td>\n",
              "      <td>-0.030169</td>\n",
              "    </tr>\n",
              "    <tr>\n",
              "      <th>medianamnt_ma_rech90</th>\n",
              "      <td>0.119931</td>\n",
              "      <td>-0.000597</td>\n",
              "      <td>0.000310</td>\n",
              "      <td>0.818428</td>\n",
              "      <td>-0.051056</td>\n",
              "      <td>-0.001959</td>\n",
              "      <td>0.422104</td>\n",
              "      <td>0.866292</td>\n",
              "      <td>-0.001265</td>\n",
              "      <td>-0.035236</td>\n",
              "      <td>0.138586</td>\n",
              "      <td>0.428913</td>\n",
              "      <td>1.000000</td>\n",
              "      <td>0.210959</td>\n",
              "      <td>-0.002224</td>\n",
              "      <td>-0.003029</td>\n",
              "      <td>0.016339</td>\n",
              "      <td>0.019424</td>\n",
              "      <td>-0.060602</td>\n",
              "      <td>-0.024783</td>\n",
              "      <td>0.001374</td>\n",
              "      <td>0.036504</td>\n",
              "      <td>-0.000161</td>\n",
              "      <td>-0.023067</td>\n",
              "      <td>0.135007</td>\n",
              "      <td>0.031665</td>\n",
              "      <td>-0.035655</td>\n",
              "      <td>-0.023296</td>\n",
              "    </tr>\n",
              "    <tr>\n",
              "      <th>medianmarechprebal90</th>\n",
              "      <td>0.038814</td>\n",
              "      <td>-0.002470</td>\n",
              "      <td>0.004765</td>\n",
              "      <td>0.124861</td>\n",
              "      <td>0.014651</td>\n",
              "      <td>-0.002998</td>\n",
              "      <td>0.094397</td>\n",
              "      <td>0.163194</td>\n",
              "      <td>0.000754</td>\n",
              "      <td>0.016447</td>\n",
              "      <td>0.005202</td>\n",
              "      <td>0.098437</td>\n",
              "      <td>0.210959</td>\n",
              "      <td>1.000000</td>\n",
              "      <td>0.001715</td>\n",
              "      <td>-0.002148</td>\n",
              "      <td>0.005928</td>\n",
              "      <td>0.008659</td>\n",
              "      <td>-0.043757</td>\n",
              "      <td>-0.034071</td>\n",
              "      <td>0.002141</td>\n",
              "      <td>0.031481</td>\n",
              "      <td>-0.000798</td>\n",
              "      <td>-0.036733</td>\n",
              "      <td>0.027017</td>\n",
              "      <td>0.033170</td>\n",
              "      <td>-0.032093</td>\n",
              "      <td>-0.031408</td>\n",
              "    </tr>\n",
              "    <tr>\n",
              "      <th>cnt_da_rech30</th>\n",
              "      <td>0.003570</td>\n",
              "      <td>-0.003380</td>\n",
              "      <td>-0.003585</td>\n",
              "      <td>-0.001642</td>\n",
              "      <td>0.002549</td>\n",
              "      <td>-0.000119</td>\n",
              "      <td>0.002738</td>\n",
              "      <td>0.000283</td>\n",
              "      <td>-0.003515</td>\n",
              "      <td>0.002854</td>\n",
              "      <td>0.002088</td>\n",
              "      <td>0.002559</td>\n",
              "      <td>-0.002224</td>\n",
              "      <td>0.001715</td>\n",
              "      <td>1.000000</td>\n",
              "      <td>0.006017</td>\n",
              "      <td>-0.000926</td>\n",
              "      <td>-0.000006</td>\n",
              "      <td>0.001996</td>\n",
              "      <td>0.001566</td>\n",
              "      <td>-0.000090</td>\n",
              "      <td>-0.000199</td>\n",
              "      <td>-0.001769</td>\n",
              "      <td>0.003245</td>\n",
              "      <td>-0.001166</td>\n",
              "      <td>-0.001874</td>\n",
              "      <td>-0.000615</td>\n",
              "      <td>0.000360</td>\n",
              "    </tr>\n",
              "    <tr>\n",
              "      <th>fr_da_rech30</th>\n",
              "      <td>-0.000746</td>\n",
              "      <td>-0.003519</td>\n",
              "      <td>0.000321</td>\n",
              "      <td>-0.003942</td>\n",
              "      <td>-0.003478</td>\n",
              "      <td>-0.001417</td>\n",
              "      <td>-0.001678</td>\n",
              "      <td>-0.001990</td>\n",
              "      <td>-0.000566</td>\n",
              "      <td>-0.003518</td>\n",
              "      <td>-0.000043</td>\n",
              "      <td>-0.001754</td>\n",
              "      <td>-0.003029</td>\n",
              "      <td>-0.002148</td>\n",
              "      <td>0.006017</td>\n",
              "      <td>1.000000</td>\n",
              "      <td>0.001202</td>\n",
              "      <td>0.006353</td>\n",
              "      <td>-0.003432</td>\n",
              "      <td>-0.003463</td>\n",
              "      <td>-0.001195</td>\n",
              "      <td>-0.000771</td>\n",
              "      <td>-0.001861</td>\n",
              "      <td>-0.001963</td>\n",
              "      <td>-0.000812</td>\n",
              "      <td>-0.000433</td>\n",
              "      <td>0.002747</td>\n",
              "      <td>0.000268</td>\n",
              "    </tr>\n",
              "    <tr>\n",
              "      <th>cnt_da_rech90</th>\n",
              "      <td>0.002973</td>\n",
              "      <td>-0.003736</td>\n",
              "      <td>-0.001538</td>\n",
              "      <td>0.015144</td>\n",
              "      <td>0.010757</td>\n",
              "      <td>0.001011</td>\n",
              "      <td>0.017686</td>\n",
              "      <td>0.015872</td>\n",
              "      <td>-0.002911</td>\n",
              "      <td>0.002804</td>\n",
              "      <td>-0.006762</td>\n",
              "      <td>0.010788</td>\n",
              "      <td>0.016339</td>\n",
              "      <td>0.005928</td>\n",
              "      <td>-0.000926</td>\n",
              "      <td>0.001202</td>\n",
              "      <td>1.000000</td>\n",
              "      <td>0.350408</td>\n",
              "      <td>0.017434</td>\n",
              "      <td>0.025465</td>\n",
              "      <td>-0.001821</td>\n",
              "      <td>-0.003573</td>\n",
              "      <td>0.001519</td>\n",
              "      <td>0.019773</td>\n",
              "      <td>0.037833</td>\n",
              "      <td>-0.002903</td>\n",
              "      <td>0.014760</td>\n",
              "      <td>0.026046</td>\n",
              "    </tr>\n",
              "    <tr>\n",
              "      <th>fr_da_rech90</th>\n",
              "      <td>-0.005697</td>\n",
              "      <td>-0.002295</td>\n",
              "      <td>0.000101</td>\n",
              "      <td>0.016966</td>\n",
              "      <td>0.007645</td>\n",
              "      <td>-0.001771</td>\n",
              "      <td>0.017503</td>\n",
              "      <td>0.013749</td>\n",
              "      <td>-0.001212</td>\n",
              "      <td>0.003641</td>\n",
              "      <td>-0.005826</td>\n",
              "      <td>0.013592</td>\n",
              "      <td>0.019424</td>\n",
              "      <td>0.008659</td>\n",
              "      <td>-0.000006</td>\n",
              "      <td>0.006353</td>\n",
              "      <td>0.350408</td>\n",
              "      <td>1.000000</td>\n",
              "      <td>0.010679</td>\n",
              "      <td>0.015419</td>\n",
              "      <td>-0.000543</td>\n",
              "      <td>-0.004201</td>\n",
              "      <td>0.002584</td>\n",
              "      <td>0.012051</td>\n",
              "      <td>0.021830</td>\n",
              "      <td>-0.002920</td>\n",
              "      <td>0.000903</td>\n",
              "      <td>0.001751</td>\n",
              "    </tr>\n",
              "    <tr>\n",
              "      <th>cnt_loans30</th>\n",
              "      <td>0.196452</td>\n",
              "      <td>0.002420</td>\n",
              "      <td>-0.000224</td>\n",
              "      <td>-0.027524</td>\n",
              "      <td>0.765105</td>\n",
              "      <td>0.001674</td>\n",
              "      <td>0.490497</td>\n",
              "      <td>-0.029985</td>\n",
              "      <td>0.001205</td>\n",
              "      <td>0.688916</td>\n",
              "      <td>-0.119333</td>\n",
              "      <td>0.442014</td>\n",
              "      <td>-0.060602</td>\n",
              "      <td>-0.043757</td>\n",
              "      <td>0.001996</td>\n",
              "      <td>-0.003432</td>\n",
              "      <td>0.017434</td>\n",
              "      <td>0.010679</td>\n",
              "      <td>1.000000</td>\n",
              "      <td>0.957736</td>\n",
              "      <td>0.000138</td>\n",
              "      <td>-0.093573</td>\n",
              "      <td>0.016844</td>\n",
              "      <td>0.853021</td>\n",
              "      <td>0.143880</td>\n",
              "      <td>-0.098146</td>\n",
              "      <td>0.067359</td>\n",
              "      <td>0.033061</td>\n",
              "    </tr>\n",
              "    <tr>\n",
              "      <th>amnt_loans30</th>\n",
              "      <td>0.197388</td>\n",
              "      <td>0.002083</td>\n",
              "      <td>-0.000086</td>\n",
              "      <td>0.008792</td>\n",
              "      <td>0.751609</td>\n",
              "      <td>0.001361</td>\n",
              "      <td>0.529878</td>\n",
              "      <td>0.007135</td>\n",
              "      <td>0.001748</td>\n",
              "      <td>0.707510</td>\n",
              "      <td>-0.123870</td>\n",
              "      <td>0.508187</td>\n",
              "      <td>-0.024783</td>\n",
              "      <td>-0.034071</td>\n",
              "      <td>0.001566</td>\n",
              "      <td>-0.003463</td>\n",
              "      <td>0.025465</td>\n",
              "      <td>0.015419</td>\n",
              "      <td>0.957736</td>\n",
              "      <td>1.000000</td>\n",
              "      <td>-0.000235</td>\n",
              "      <td>-0.079241</td>\n",
              "      <td>0.015820</td>\n",
              "      <td>0.897981</td>\n",
              "      <td>0.329248</td>\n",
              "      <td>-0.088557</td>\n",
              "      <td>0.059876</td>\n",
              "      <td>0.030392</td>\n",
              "    </tr>\n",
              "    <tr>\n",
              "      <th>maxamnt_loans30</th>\n",
              "      <td>0.000295</td>\n",
              "      <td>0.000535</td>\n",
              "      <td>0.000943</td>\n",
              "      <td>0.001117</td>\n",
              "      <td>0.000545</td>\n",
              "      <td>-0.002040</td>\n",
              "      <td>0.001924</td>\n",
              "      <td>0.002496</td>\n",
              "      <td>-0.001960</td>\n",
              "      <td>-0.000091</td>\n",
              "      <td>0.000955</td>\n",
              "      <td>0.001460</td>\n",
              "      <td>0.001374</td>\n",
              "      <td>0.002141</td>\n",
              "      <td>-0.000090</td>\n",
              "      <td>-0.001195</td>\n",
              "      <td>-0.001821</td>\n",
              "      <td>-0.000543</td>\n",
              "      <td>0.000138</td>\n",
              "      <td>-0.000235</td>\n",
              "      <td>1.000000</td>\n",
              "      <td>0.008954</td>\n",
              "      <td>0.004850</td>\n",
              "      <td>-0.001936</td>\n",
              "      <td>-0.000484</td>\n",
              "      <td>0.010420</td>\n",
              "      <td>-0.001050</td>\n",
              "      <td>-0.000064</td>\n",
              "    </tr>\n",
              "    <tr>\n",
              "      <th>medianamnt_loans30</th>\n",
              "      <td>0.044759</td>\n",
              "      <td>0.002246</td>\n",
              "      <td>0.000044</td>\n",
              "      <td>0.028081</td>\n",
              "      <td>-0.067176</td>\n",
              "      <td>0.000086</td>\n",
              "      <td>-0.034840</td>\n",
              "      <td>0.032033</td>\n",
              "      <td>-0.002895</td>\n",
              "      <td>-0.054278</td>\n",
              "      <td>0.020606</td>\n",
              "      <td>-0.022472</td>\n",
              "      <td>0.036504</td>\n",
              "      <td>0.031481</td>\n",
              "      <td>-0.000199</td>\n",
              "      <td>-0.000771</td>\n",
              "      <td>-0.003573</td>\n",
              "      <td>-0.004201</td>\n",
              "      <td>-0.093573</td>\n",
              "      <td>-0.079241</td>\n",
              "      <td>0.008954</td>\n",
              "      <td>1.000000</td>\n",
              "      <td>-0.002941</td>\n",
              "      <td>-0.068654</td>\n",
              "      <td>0.055922</td>\n",
              "      <td>0.912783</td>\n",
              "      <td>-0.005279</td>\n",
              "      <td>0.003026</td>\n",
              "    </tr>\n",
              "    <tr>\n",
              "      <th>cnt_loans90</th>\n",
              "      <td>0.004201</td>\n",
              "      <td>0.000326</td>\n",
              "      <td>-0.002847</td>\n",
              "      <td>-0.000060</td>\n",
              "      <td>0.014765</td>\n",
              "      <td>0.004300</td>\n",
              "      <td>0.009468</td>\n",
              "      <td>-0.001084</td>\n",
              "      <td>0.002048</td>\n",
              "      <td>0.016373</td>\n",
              "      <td>-0.002497</td>\n",
              "      <td>0.011848</td>\n",
              "      <td>-0.000161</td>\n",
              "      <td>-0.000798</td>\n",
              "      <td>-0.001769</td>\n",
              "      <td>-0.001861</td>\n",
              "      <td>0.001519</td>\n",
              "      <td>0.002584</td>\n",
              "      <td>0.016844</td>\n",
              "      <td>0.015820</td>\n",
              "      <td>0.004850</td>\n",
              "      <td>-0.002941</td>\n",
              "      <td>1.000000</td>\n",
              "      <td>0.019136</td>\n",
              "      <td>0.001086</td>\n",
              "      <td>-0.002250</td>\n",
              "      <td>0.000996</td>\n",
              "      <td>-0.000122</td>\n",
              "    </tr>\n",
              "    <tr>\n",
              "      <th>amnt_loans90</th>\n",
              "      <td>0.199722</td>\n",
              "      <td>0.002368</td>\n",
              "      <td>0.000055</td>\n",
              "      <td>0.014030</td>\n",
              "      <td>0.684428</td>\n",
              "      <td>0.001763</td>\n",
              "      <td>0.483161</td>\n",
              "      <td>0.014433</td>\n",
              "      <td>0.002117</td>\n",
              "      <td>0.783033</td>\n",
              "      <td>-0.132162</td>\n",
              "      <td>0.561467</td>\n",
              "      <td>-0.023067</td>\n",
              "      <td>-0.036733</td>\n",
              "      <td>0.003245</td>\n",
              "      <td>-0.001963</td>\n",
              "      <td>0.019773</td>\n",
              "      <td>0.012051</td>\n",
              "      <td>0.853021</td>\n",
              "      <td>0.897981</td>\n",
              "      <td>-0.001936</td>\n",
              "      <td>-0.068654</td>\n",
              "      <td>0.019136</td>\n",
              "      <td>1.000000</td>\n",
              "      <td>0.323006</td>\n",
              "      <td>-0.095570</td>\n",
              "      <td>0.051539</td>\n",
              "      <td>0.029084</td>\n",
              "    </tr>\n",
              "    <tr>\n",
              "      <th>maxamnt_loans90</th>\n",
              "      <td>0.084151</td>\n",
              "      <td>-0.000835</td>\n",
              "      <td>0.001906</td>\n",
              "      <td>0.148354</td>\n",
              "      <td>0.174136</td>\n",
              "      <td>-0.002195</td>\n",
              "      <td>0.258299</td>\n",
              "      <td>0.159891</td>\n",
              "      <td>-0.001831</td>\n",
              "      <td>0.244171</td>\n",
              "      <td>-0.045677</td>\n",
              "      <td>0.322288</td>\n",
              "      <td>0.135007</td>\n",
              "      <td>0.027017</td>\n",
              "      <td>-0.001166</td>\n",
              "      <td>-0.000812</td>\n",
              "      <td>0.037833</td>\n",
              "      <td>0.021830</td>\n",
              "      <td>0.143880</td>\n",
              "      <td>0.329248</td>\n",
              "      <td>-0.000484</td>\n",
              "      <td>0.055922</td>\n",
              "      <td>0.001086</td>\n",
              "      <td>0.323006</td>\n",
              "      <td>1.000000</td>\n",
              "      <td>0.030362</td>\n",
              "      <td>0.013177</td>\n",
              "      <td>0.029293</td>\n",
              "    </tr>\n",
              "    <tr>\n",
              "      <th>medianamnt_loans90</th>\n",
              "      <td>0.036027</td>\n",
              "      <td>0.003654</td>\n",
              "      <td>-0.002535</td>\n",
              "      <td>0.021031</td>\n",
              "      <td>-0.071337</td>\n",
              "      <td>-0.001451</td>\n",
              "      <td>-0.042354</td>\n",
              "      <td>0.022367</td>\n",
              "      <td>-0.002306</td>\n",
              "      <td>-0.072572</td>\n",
              "      <td>0.016973</td>\n",
              "      <td>-0.042628</td>\n",
              "      <td>0.031665</td>\n",
              "      <td>0.033170</td>\n",
              "      <td>-0.001874</td>\n",
              "      <td>-0.000433</td>\n",
              "      <td>-0.002903</td>\n",
              "      <td>-0.002920</td>\n",
              "      <td>-0.098146</td>\n",
              "      <td>-0.088557</td>\n",
              "      <td>0.010420</td>\n",
              "      <td>0.912783</td>\n",
              "      <td>-0.002250</td>\n",
              "      <td>-0.095570</td>\n",
              "      <td>0.030362</td>\n",
              "      <td>1.000000</td>\n",
              "      <td>-0.012672</td>\n",
              "      <td>-0.010350</td>\n",
              "    </tr>\n",
              "    <tr>\n",
              "      <th>payback30</th>\n",
              "      <td>0.048064</td>\n",
              "      <td>-0.001790</td>\n",
              "      <td>0.000313</td>\n",
              "      <td>-0.027908</td>\n",
              "      <td>0.043171</td>\n",
              "      <td>0.000499</td>\n",
              "      <td>-0.000140</td>\n",
              "      <td>-0.018504</td>\n",
              "      <td>0.000941</td>\n",
              "      <td>0.011654</td>\n",
              "      <td>0.036801</td>\n",
              "      <td>-0.026518</td>\n",
              "      <td>-0.035655</td>\n",
              "      <td>-0.032093</td>\n",
              "      <td>-0.000615</td>\n",
              "      <td>0.002747</td>\n",
              "      <td>0.014760</td>\n",
              "      <td>0.000903</td>\n",
              "      <td>0.067359</td>\n",
              "      <td>0.059876</td>\n",
              "      <td>-0.001050</td>\n",
              "      <td>-0.005279</td>\n",
              "      <td>0.000996</td>\n",
              "      <td>0.051539</td>\n",
              "      <td>0.013177</td>\n",
              "      <td>-0.012672</td>\n",
              "      <td>1.000000</td>\n",
              "      <td>0.831981</td>\n",
              "    </tr>\n",
              "    <tr>\n",
              "      <th>payback90</th>\n",
              "      <td>0.048983</td>\n",
              "      <td>-0.001634</td>\n",
              "      <td>0.000870</td>\n",
              "      <td>-0.015397</td>\n",
              "      <td>0.017087</td>\n",
              "      <td>-0.000079</td>\n",
              "      <td>-0.012756</td>\n",
              "      <td>-0.003251</td>\n",
              "      <td>0.001317</td>\n",
              "      <td>-0.003448</td>\n",
              "      <td>0.077139</td>\n",
              "      <td>-0.030169</td>\n",
              "      <td>-0.023296</td>\n",
              "      <td>-0.031408</td>\n",
              "      <td>0.000360</td>\n",
              "      <td>0.000268</td>\n",
              "      <td>0.026046</td>\n",
              "      <td>0.001751</td>\n",
              "      <td>0.033061</td>\n",
              "      <td>0.030392</td>\n",
              "      <td>-0.000064</td>\n",
              "      <td>0.003026</td>\n",
              "      <td>-0.000122</td>\n",
              "      <td>0.029084</td>\n",
              "      <td>0.029293</td>\n",
              "      <td>-0.010350</td>\n",
              "      <td>0.831981</td>\n",
              "      <td>1.000000</td>\n",
              "    </tr>\n",
              "  </tbody>\n",
              "</table>\n",
              "</div>"
            ],
            "text/plain": [
              "                         label  last_rech_date_ma  ...  payback30  payback90\n",
              "label                 1.000000           0.003078  ...   0.048064   0.048983\n",
              "last_rech_date_ma     0.003078           1.000000  ...  -0.001790  -0.001634\n",
              "last_rech_date_da     0.002682           0.001002  ...   0.000313   0.000870\n",
              "last_rech_amt_ma      0.130805           0.000102  ...  -0.027908  -0.015397\n",
              "cnt_ma_rech30         0.236859           0.004945  ...   0.043171   0.017087\n",
              "fr_ma_rech30          0.000507          -0.001243  ...   0.000499  -0.000079\n",
              "sumamnt_ma_rech30     0.202064           0.002749  ...  -0.000140  -0.012756\n",
              "medianamnt_ma_rech30  0.140745          -0.001099  ...  -0.018504  -0.003251\n",
              "medianmarechprebal30 -0.004101           0.005041  ...   0.000941   0.001317\n",
              "cnt_ma_rech90         0.235895           0.005222  ...   0.011654  -0.003448\n",
              "fr_ma_rech90          0.083986           0.000155  ...   0.036801   0.077139\n",
              "sumamnt_ma_rech90     0.205036           0.003289  ...  -0.026518  -0.030169\n",
              "medianamnt_ma_rech90  0.119931          -0.000597  ...  -0.035655  -0.023296\n",
              "medianmarechprebal90  0.038814          -0.002470  ...  -0.032093  -0.031408\n",
              "cnt_da_rech30         0.003570          -0.003380  ...  -0.000615   0.000360\n",
              "fr_da_rech30         -0.000746          -0.003519  ...   0.002747   0.000268\n",
              "cnt_da_rech90         0.002973          -0.003736  ...   0.014760   0.026046\n",
              "fr_da_rech90         -0.005697          -0.002295  ...   0.000903   0.001751\n",
              "cnt_loans30           0.196452           0.002420  ...   0.067359   0.033061\n",
              "amnt_loans30          0.197388           0.002083  ...   0.059876   0.030392\n",
              "maxamnt_loans30       0.000295           0.000535  ...  -0.001050  -0.000064\n",
              "medianamnt_loans30    0.044759           0.002246  ...  -0.005279   0.003026\n",
              "cnt_loans90           0.004201           0.000326  ...   0.000996  -0.000122\n",
              "amnt_loans90          0.199722           0.002368  ...   0.051539   0.029084\n",
              "maxamnt_loans90       0.084151          -0.000835  ...   0.013177   0.029293\n",
              "medianamnt_loans90    0.036027           0.003654  ...  -0.012672  -0.010350\n",
              "payback30             0.048064          -0.001790  ...   1.000000   0.831981\n",
              "payback90             0.048983          -0.001634  ...   0.831981   1.000000\n",
              "\n",
              "[28 rows x 28 columns]"
            ]
          },
          "metadata": {},
          "execution_count": 19
        }
      ]
    },
    {
      "cell_type": "code",
      "metadata": {
        "colab": {
          "base_uri": "https://localhost:8080/",
          "height": 1000
        },
        "id": "xDx14VHwEpl1",
        "outputId": "4ec3b755-24d5-457f-ffba-81698484bff2"
      },
      "source": [
        "# Plotting the heatmap of correlation between features\n",
        "plt.figure(figsize=(28, 28))\n",
        "sns.heatmap(corr, cbar=False, square= True, fmt= '0.1%', annot=True, cmap= 'Dark2')"
      ],
      "execution_count": null,
      "outputs": [
        {
          "output_type": "execute_result",
          "data": {
            "text/plain": [
              "<matplotlib.axes._subplots.AxesSubplot at 0x7fe974a81410>"
            ]
          },
          "metadata": {},
          "execution_count": 20
        },
        {
          "output_type": "display_data",
          "data": {
            "image/png": "[encoded data removed]",
            "text/plain": [
              "<Figure size 2016x2016 with 1 Axes>"
            ]
          },
          "metadata": {
            "needs_background": "light"
          }
        }
      ]
    },
    {
      "cell_type": "code",
      "metadata": {
        "colab": {
          "base_uri": "https://localhost:8080/"
        },
        "id": "6dXW5x4KJl0l",
        "outputId": "337bf5a3-53e1-453c-cc74-fd3dce260669"
      },
      "source": [
        "X = df.drop(['label', 'msisdn', 'aon', 'daily_decr30', 'daily_decr90', 'rental30', 'rental90', 'pcircle', 'pdate'], axis = 1)\n",
        "y = df.label\n",
        "print(X.shape)\n",
        "print(y.shape)"
      ],
      "execution_count": null,
      "outputs": [
        {
          "output_type": "stream",
          "name": "stdout",
          "text": [
            "(190001, 27)\n",
            "(190001,)\n"
          ]
        }
      ]
    },
    {
      "cell_type": "code",
      "metadata": {
        "colab": {
          "base_uri": "https://localhost:8080/"
        },
        "id": "vCq1AWUVy7ff",
        "outputId": "a81ecc08-3a09-415f-9cb9-891b574f0e23"
      },
      "source": [
        "X.info()"
      ],
      "execution_count": null,
      "outputs": [
        {
          "output_type": "stream",
          "name": "stdout",
          "text": [
            "<class 'pandas.core.frame.DataFrame'>\n",
            "RangeIndex: 190001 entries, 0 to 190000\n",
            "Data columns (total 27 columns):\n",
            " #   Column                Non-Null Count   Dtype  \n",
            "---  ------                --------------   -----  \n",
            " 0   last_rech_date_ma     190001 non-null  float64\n",
            " 1   last_rech_date_da     190001 non-null  float64\n",
            " 2   last_rech_amt_ma      190001 non-null  int64  \n",
            " 3   cnt_ma_rech30         190001 non-null  int64  \n",
            " 4   fr_ma_rech30          190001 non-null  float64\n",
            " 5   sumamnt_ma_rech30     190001 non-null  float64\n",
            " 6   medianamnt_ma_rech30  190001 non-null  float64\n",
            " 7   medianmarechprebal30  190001 non-null  float64\n",
            " 8   cnt_ma_rech90         190001 non-null  int64  \n",
            " 9   fr_ma_rech90          190001 non-null  int64  \n",
            " 10  sumamnt_ma_rech90     190001 non-null  int64  \n",
            " 11  medianamnt_ma_rech90  190001 non-null  float64\n",
            " 12  medianmarechprebal90  190001 non-null  float64\n",
            " 13  cnt_da_rech30         190001 non-null  float64\n",
            " 14  fr_da_rech30          190001 non-null  float64\n",
            " 15  cnt_da_rech90         190001 non-null  int64  \n",
            " 16  fr_da_rech90          190001 non-null  int64  \n",
            " 17  cnt_loans30           190001 non-null  int64  \n",
            " 18  amnt_loans30          190001 non-null  int64  \n",
            " 19  maxamnt_loans30       190001 non-null  float64\n",
            " 20  medianamnt_loans30    190001 non-null  float64\n",
            " 21  cnt_loans90           190001 non-null  float64\n",
            " 22  amnt_loans90          190001 non-null  int64  \n",
            " 23  maxamnt_loans90       190001 non-null  int64  \n",
            " 24  medianamnt_loans90    190001 non-null  float64\n",
            " 25  payback30             190001 non-null  float64\n",
            " 26  payback90             190001 non-null  float64\n",
            "dtypes: float64(16), int64(11)\n",
            "memory usage: 39.1 MB\n"
          ]
        }
      ]
    },
    {
      "cell_type": "code",
      "metadata": {
        "colab": {
          "base_uri": "https://localhost:8080/"
        },
        "id": "YDweb_Z7Km-6",
        "outputId": "59247408-9ecf-4327-e909-da819869c578"
      },
      "source": [
        "#separating training dataset from test dataset with a test size of 20%\n",
        "X_train, X_test, y_train, y_test = train_test_split(X, y, test_size=0.2, random_state=None)\n",
        "# Printing the shape of the splitted dataset\n",
        "print(X_train.shape)\n",
        "print(y_train.shape)\n",
        "print(X_test.shape)\n",
        "print(y_test.shape)"
      ],
      "execution_count": null,
      "outputs": [
        {
          "output_type": "stream",
          "name": "stdout",
          "text": [
            "(152000, 27)\n",
            "(152000,)\n",
            "(38001, 27)\n",
            "(38001,)\n"
          ]
        }
      ]
    },
    {
      "cell_type": "code",
      "metadata": {
        "colab": {
          "base_uri": "https://localhost:8080/"
        },
        "id": "WXuWQ16xL0Ao",
        "outputId": "7885e1cf-a9f5-4fdc-8804-ff19a99dc070"
      },
      "source": [
        "# Printing the length of the splitted dataset\n",
        "print(\"Length of X_train is: {X_train}\".format(X_train = len(X_train)))\n",
        "print(\"Length of X_test is: {X_test}\".format(X_test = len(X_test)))\n",
        "print(\"Length of y_train is: {y_train}\".format(y_train = len(y_train)))\n",
        "print(\"Length of y_test is: {y_test}\".format(y_test = len(y_test)))"
      ],
      "execution_count": null,
      "outputs": [
        {
          "output_type": "stream",
          "name": "stdout",
          "text": [
            "Length of X_train is: 152000\n",
            "Length of X_test is: 38001\n",
            "Length of y_train is: 152000\n",
            "Length of y_test is: 38001\n"
          ]
        }
      ]
    },
    {
      "cell_type": "markdown",
      "metadata": {
        "id": "k62LeS6W5ZvS",
        "outputId": "1a8043fb-bb6d-4386-af68-9eefb11e0098"
      },
      "source": [
        "# MODELING"
      ]
    },
    {
      "cell_type": "markdown",
      "metadata": {
        "id": "eBwO2lN6n6gj"
      },
      "source": [
        "### Random Forest Model and Scores"
      ]
    },
    {
      "cell_type": "code",
      "metadata": {
        "colab": {
          "base_uri": "https://localhost:8080/"
        },
        "id": "MjUzcJXNK1_-",
        "outputId": "0ddbe8f0-47fc-47ba-de87-d898d9177abe"
      },
      "source": [
        "# Define the model as the random forest\n",
        "rf_model = RandomForestClassifier(random_state=5, n_estimators=100)\n",
        "# Fit the model to our training set\n",
        "rf_model.fit(X_train, y_train)\n",
        "print(rf_model.score(X_train, y_train))\n",
        "rf_model_pred = rf_model.predict(X_test)\n",
        "print(cl('ACCURACY SCORE', attrs = ['bold']))\n",
        "print(cl('------------------------------------------------------------------------', attrs = ['bold']))\n",
        "print(cl('Accuracy score of the Random Forest Tree model is: {}'.format(accuracy_score(y_test, rf_model_pred)), attrs = ['bold'], color = 'red'))\n",
        "print(cl('F1 SCORE', attrs = ['bold']))\n",
        "print(cl('------------------------------------------------------------------------', attrs = ['bold']))\n",
        "print(cl('F1 score of the Random Forest Tree model is: {}'.format(f1_score(y_test, rf_model_pred)), attrs = ['bold'], color = 'blue'))\n",
        "print(cl('R^2 SCORE', attrs = ['bold']))\n",
        "print(cl('------------------------------------------------------------------------', attrs = ['bold']))\n",
        "print(cl('R^2 score of the Random Forest Tree model is: {}'.format(r2_score(y_test, rf_model_pred)), attrs = ['bold'], color = 'green'))"
      ],
      "execution_count": null,
      "outputs": [
        {
          "output_type": "stream",
          "name": "stdout",
          "text": [
            "0.9546578947368421\n",
            "\u001b[1mACCURACY SCORE\u001b[0m\n",
            "\u001b[1m------------------------------------------------------------------------\u001b[0m\n",
            "\u001b[1m\u001b[31mAccuracy score of the Random Forest Tree model is: 0.8692929133443856\u001b[0m\n",
            "\u001b[1mF1 SCORE\u001b[0m\n",
            "\u001b[1m------------------------------------------------------------------------\u001b[0m\n",
            "\u001b[1m\u001b[34mF1 score of the Random Forest Tree model is: 0.9289260928668528\u001b[0m\n",
            "\u001b[1mR^2 SCORE\u001b[0m\n",
            "\u001b[1m------------------------------------------------------------------------\u001b[0m\n",
            "\u001b[1m\u001b[32mR^2 score of the Random Forest Tree model is: -0.19334093375392847\u001b[0m\n"
          ]
        }
      ]
    },
    {
      "cell_type": "code",
      "metadata": {
        "colab": {
          "base_uri": "https://localhost:8080/"
        },
        "id": "lWfkZnEPLCO5",
        "scrolled": true,
        "outputId": "7f4411e2-b1d1-40d7-8a2c-4361d5f524f8"
      },
      "source": [
        "# Printing the classifcation report and confusion matrix for Random Forest\n",
        "print('Classification report:\\n', classification_report(y_test, rf_model_pred))\n",
        "rf_conf_mat = confusion_matrix(y_test, rf_model_pred)\n",
        "print('Random Forest Confusion matrix:\\n', rf_conf_mat)\n"
      ],
      "execution_count": null,
      "outputs": [
        {
          "output_type": "stream",
          "name": "stdout",
          "text": [
            "Classification report:\n",
            "               precision    recall  f1-score   support\n",
            "\n",
            "           0       0.43      0.12      0.19      4789\n",
            "           1       0.88      0.98      0.93     33212\n",
            "\n",
            "    accuracy                           0.87     38001\n",
            "   macro avg       0.66      0.55      0.56     38001\n",
            "weighted avg       0.83      0.87      0.84     38001\n",
            "\n",
            "Random Forest Confusion matrix:\n",
            " [[  567  4222]\n",
            " [  762 32450]]\n"
          ]
        }
      ]
    },
    {
      "cell_type": "code",
      "metadata": {
        "colab": {
          "base_uri": "https://localhost:8080/",
          "height": 351
        },
        "id": "Bo96iH12n6gn",
        "outputId": "b2ee71d7-7595-4b17-db10-0316890a19b9"
      },
      "source": [
        "#Visualizing the Random Forest confusion matrix\n",
        "LABELS = ['fraud', 'non_fraud']\n",
        "plt.figure(figsize=(7, 5))\n",
        "sns.heatmap(rf_conf_mat, xticklabels=LABELS,\n",
        " yticklabels=LABELS, annot=True, fmt=\"d\");\n",
        "plt.title(\"Random Forest Confusion matrix\")\n",
        "plt.ylabel('True class')\n",
        "plt.xlabel('Predicted class')\n",
        "plt.show()"
      ],
      "execution_count": null,
      "outputs": [
        {
          "output_type": "display_data",
          "data": {
            "image/png": "[encoded data removed]",
            "text/plain": [
              "<Figure size 504x360 with 2 Axes>"
            ]
          },
          "metadata": {
            "needs_background": "light"
          }
        }
      ]
    },
    {
      "cell_type": "markdown",
      "metadata": {
        "id": "0WolNRp4n6go"
      },
      "source": [
        "### Logistic Regression Model and Scores"
      ]
    },
    {
      "cell_type": "code",
      "metadata": {
        "colab": {
          "base_uri": "https://localhost:8080/"
        },
        "id": "-MVfJVWzIwRn",
        "outputId": "e7adac8b-3637-42e7-e3c3-ab401e6e9dbf"
      },
      "source": [
        "# Fit a logistic regression model to our data\n",
        "lr_model = LogisticRegression(solver='liblinear')\n",
        "lr_model.fit(X_train, y_train)\n",
        "\n",
        "# Obtain model predictions\n",
        "lr_model_pred = lr_model.predict(X_test)\n",
        "print(cl('ACCURACY SCORE', attrs = ['bold']))\n",
        "print(cl('------------------------------------------------------------------------', attrs = ['bold']))\n",
        "print(cl('Accuracy score of the Logistic Regression model is: {}'.format(accuracy_score(y_test, lr_model_pred)), attrs = ['bold'], color = 'red'))\n",
        "print(cl('F1 SCORE', attrs = ['bold']))\n",
        "print(cl('------------------------------------------------------------------------', attrs = ['bold']))\n",
        "print(cl('F1 score of the Logistic Regression model is: {}'.format(f1_score(y_test, lr_model_pred)), attrs = ['bold'], color = 'blue'))\n",
        "print(cl('R^2 SCORE', attrs = ['bold']))\n",
        "print(cl('------------------------------------------------------------------------', attrs = ['bold']))\n",
        "print(cl('R^2 score of the Logistic Regression model is: {}'.format(r2_score(y_test, lr_model_pred)), attrs = ['bold'], color = 'green'))"
      ],
      "execution_count": null,
      "outputs": [
        {
          "output_type": "stream",
          "name": "stdout",
          "text": [
            "\u001b[1mACCURACY SCORE\u001b[0m\n",
            "\u001b[1m------------------------------------------------------------------------\u001b[0m\n",
            "\u001b[1m\u001b[31mAccuracy score of the Logistic Regression model is: 0.8740033157022183\u001b[0m\n",
            "\u001b[1mF1 SCORE\u001b[0m\n",
            "\u001b[1m------------------------------------------------------------------------\u001b[0m\n",
            "\u001b[1m\u001b[34mF1 score of the Logistic Regression model is: 0.9327641408751334\u001b[0m\n",
            "\u001b[1mR^2 SCORE\u001b[0m\n",
            "\u001b[1m------------------------------------------------------------------------\u001b[0m\n",
            "\u001b[1m\u001b[32mR^2 score of the Logistic Regression model is: -0.14395594786488686\u001b[0m\n"
          ]
        }
      ]
    },
    {
      "cell_type": "code",
      "metadata": {
        "colab": {
          "base_uri": "https://localhost:8080/"
        },
        "id": "XVGcIE6JJCDH",
        "outputId": "84d88bf5-b3ba-4d16-b1c2-bb8e53eed9db"
      },
      "source": [
        "# Print the classifcation report and confusion matrix Logistic Regression\n",
        "print('Classification report:\\n', classification_report(y_test, lr_model_pred))\n",
        "lr_conf_mat = confusion_matrix(y_test, lr_model_pred)\n",
        "print('Logistic Regression Confusion matrix:\\n', lr_conf_mat)"
      ],
      "execution_count": null,
      "outputs": [
        {
          "output_type": "stream",
          "name": "stdout",
          "text": [
            "Classification report:\n",
            "               precision    recall  f1-score   support\n",
            "\n",
            "           0       1.00      0.00      0.00      4789\n",
            "           1       0.87      1.00      0.93     33212\n",
            "\n",
            "    accuracy                           0.87     38001\n",
            "   macro avg       0.94      0.50      0.47     38001\n",
            "weighted avg       0.89      0.87      0.82     38001\n",
            "\n",
            "Logistic Regression Confusion matrix:\n",
            " [[    1  4788]\n",
            " [    0 33212]]\n"
          ]
        }
      ]
    },
    {
      "cell_type": "code",
      "metadata": {
        "colab": {
          "base_uri": "https://localhost:8080/",
          "height": 351
        },
        "id": "2iRMuzXrn6gq",
        "outputId": "e515fbb8-aa43-4503-f7f4-e6ddfa77ebf5"
      },
      "source": [
        "#Visualizing the Logistic Regression confusion matrix\n",
        "LABELS = ['fraud', 'non_fraud']\n",
        "plt.figure(figsize=(7, 5))\n",
        "sns.heatmap(lr_conf_mat, xticklabels=LABELS,\n",
        " yticklabels=LABELS, annot=True, fmt=\"d\");\n",
        "plt.title(\"Logistic Regression Confusion matrix\")\n",
        "plt.ylabel('True class')\n",
        "plt.xlabel('Predicted class')\n",
        "plt.show()"
      ],
      "execution_count": null,
      "outputs": [
        {
          "output_type": "display_data",
          "data": {
            "image/png": "[encoded data removed]",
            "text/plain": [
              "<Figure size 504x360 with 2 Axes>"
            ]
          },
          "metadata": {
            "needs_background": "light"
          }
        }
      ]
    },
    {
      "cell_type": "code",
      "metadata": {
        "id": "ExWrP7Bbn6gr"
      },
      "source": [
        ""
      ],
      "execution_count": null,
      "outputs": []
    },
    {
      "cell_type": "markdown",
      "metadata": {
        "id": "k4cy5Rlvn6gr"
      },
      "source": [
        "### Decision Tree Classifier Model and Scores"
      ]
    },
    {
      "cell_type": "code",
      "metadata": {
        "colab": {
          "base_uri": "https://localhost:8080/"
        },
        "id": "5eU5aQoJL0DO",
        "outputId": "8c3bc26c-081f-4888-fc3a-7c5d47b1d2fd"
      },
      "source": [
        "# Building decision tree\n",
        "# 1. Decision Tree\n",
        "dt_model = DecisionTreeClassifier(max_depth = 4, criterion = 'entropy')\n",
        "dt_model.fit(X_train, y_train)\n",
        "dt_model_pred = dt_model.predict(X_test)\n",
        "def decision_tree_classification(X_train, y_train, X_test, y_test):\n",
        "    # initialize object for DecisionTreeClassifier class\n",
        "    dt_classifier = DecisionTreeClassifier()\n",
        "    # train model by using fit method\n",
        "    print(\"Model training starts........\")\n",
        "    dt_classifier.fit(X_train, y_train.values.ravel())\n",
        "    print(\"Model training completed\")\n",
        "    acc_score = dt_classifier.score(X_train, y_train)\n",
        "    print(f'Accuracy of model on test dataset : {acc_score}')\n",
        "    # predict result using test dataset\n",
        "    dt_model_pred = dt_classifier.predict(X_test)\n",
        "    # confusion matrix\n",
        "    print(f\"Confusion Matrix : \\n {confusion_matrix(y_test, dt_model_pred)}\")\n",
        "    # classification report for f1-score\n",
        "    print(f\"Classification Report : \\n {classification_report(y_test, dt_model_pred)}\")\n",
        "\n",
        "# calling decision_tree_classification method to train and evaluate model\n",
        "decision_tree_classification(X_train, y_train, X_test, y_test)"
      ],
      "execution_count": null,
      "outputs": [
        {
          "output_type": "stream",
          "name": "stdout",
          "text": [
            "Model training starts........\n",
            "Model training completed\n",
            "Accuracy of model on test dataset : 0.9550131578947368\n",
            "Confusion Matrix : \n",
            " [[  882  3907]\n",
            " [ 2667 30545]]\n",
            "Classification Report : \n",
            "               precision    recall  f1-score   support\n",
            "\n",
            "           0       0.25      0.18      0.21      4789\n",
            "           1       0.89      0.92      0.90     33212\n",
            "\n",
            "    accuracy                           0.83     38001\n",
            "   macro avg       0.57      0.55      0.56     38001\n",
            "weighted avg       0.81      0.83      0.82     38001\n",
            "\n"
          ]
        }
      ]
    },
    {
      "cell_type": "code",
      "metadata": {
        "colab": {
          "base_uri": "https://localhost:8080/",
          "height": 351
        },
        "id": "4qdMdQ21n6gs",
        "outputId": "fbc6e628-1d66-4aec-c8c3-48c0fbbcf16b"
      },
      "source": [
        "#Visualizing the Decision Tree confusion matrix\n",
        "LABELS = ['fraud', 'non_fraud']\n",
        "dt_conf_mat = confusion_matrix(y_test, dt_model_pred)\n",
        "plt.figure(figsize=(7, 5))\n",
        "sns.heatmap(dt_conf_mat, xticklabels=LABELS,\n",
        " yticklabels=LABELS, annot=True, fmt=\"d\");\n",
        "plt.title(\"Decision Tree Confusion matrix\")\n",
        "plt.ylabel('True class')\n",
        "plt.xlabel('Predicted class')\n",
        "plt.show()"
      ],
      "execution_count": null,
      "outputs": [
        {
          "output_type": "display_data",
          "data": {
            "image/png": "[encoded data removed]",
            "text/plain": [
              "<Figure size 504x360 with 2 Axes>"
            ]
          },
          "metadata": {
            "needs_background": "light"
          }
        }
      ]
    },
    {
      "cell_type": "code",
      "metadata": {
        "colab": {
          "base_uri": "https://localhost:8080/"
        },
        "id": "Y94GfeZUn6gs",
        "outputId": "8e3bd4d1-1201-44e8-fe80-807e9d5d2f40"
      },
      "source": [
        "# K-Nearest Neighbors\n",
        "n = 5\n",
        "knn_model = KNeighborsClassifier(n_neighbors = n)\n",
        "knn_model.fit(X_train, y_train)\n",
        "knn_model_pred = knn_model.predict(X_test)\n",
        "print(cl('ACCURACY SCORE', attrs = ['bold']))\n",
        "print(cl('------------------------------------------------------------------------', attrs = ['bold']))\n",
        "print(cl('Accuracy score of the KNN model is: {}'.format(accuracy_score(y_test, knn_model_pred)), attrs = ['bold'], color = 'red'))\n",
        "print(cl('F1 SCORE', attrs = ['bold']))\n",
        "print(cl('------------------------------------------------------------------------', attrs = ['bold']))\n",
        "print(cl('F1 score of the KNN model is: {}'.format(f1_score(y_test, knn_model_pred)), attrs = ['bold'], color = 'blue'))\n",
        "print(cl('R^2 SCORE', attrs = ['bold']))\n",
        "print(cl('------------------------------------------------------------------------', attrs = ['bold']))\n",
        "print(cl('R^2 score of the KNN model is: {}'.format(r2_score(y_test, knn_model_pred)), attrs = ['bold'], color = 'green'))"
      ],
      "execution_count": null,
      "outputs": [
        {
          "output_type": "stream",
          "name": "stdout",
          "text": [
            "\u001b[1mACCURACY SCORE\u001b[0m\n",
            "\u001b[1m------------------------------------------------------------------------\u001b[0m\n",
            "\u001b[1m\u001b[31mAccuracy score of the KNN model is: 0.8626878240046315\u001b[0m\n",
            "\u001b[1mF1 SCORE\u001b[0m\n",
            "\u001b[1m------------------------------------------------------------------------\u001b[0m\n",
            "\u001b[1m\u001b[34mF1 score of the KNN model is: 0.9217878769710415\u001b[0m\n",
            "\u001b[1mR^2 SCORE\u001b[0m\n",
            "\u001b[1m------------------------------------------------------------------------\u001b[0m\n",
            "\u001b[1m\u001b[32mR^2 score of the KNN model is: -0.24669217543002908\u001b[0m\n"
          ]
        }
      ]
    },
    {
      "cell_type": "code",
      "metadata": {
        "colab": {
          "base_uri": "https://localhost:8080/"
        },
        "id": "Tn_B-o0rn6gt",
        "outputId": "353f2ca5-7880-4511-9d00-9b863546ccb0"
      },
      "source": [
        "# Printing the classifcation report and confusion matrix for KNN\n",
        "print('Classification report:\\n', classification_report(y_test, knn_model_pred))\n",
        "knn_conf_mat = confusion_matrix(y_test, knn_model_pred)\n",
        "print('KNN Confusion matrix:\\n', knn_conf_mat)"
      ],
      "execution_count": null,
      "outputs": [
        {
          "output_type": "stream",
          "name": "stdout",
          "text": [
            "Classification report:\n",
            "               precision    recall  f1-score   support\n",
            "\n",
            "           0       0.45      0.42      0.44      4789\n",
            "           1       0.92      0.93      0.92     33212\n",
            "\n",
            "    accuracy                           0.86     38001\n",
            "   macro avg       0.69      0.68      0.68     38001\n",
            "weighted avg       0.86      0.86      0.86     38001\n",
            "\n",
            "KNN Confusion matrix:\n",
            " [[ 2034  2755]\n",
            " [ 2463 30749]]\n"
          ]
        }
      ]
    },
    {
      "cell_type": "code",
      "metadata": {
        "colab": {
          "base_uri": "https://localhost:8080/",
          "height": 351
        },
        "id": "BM3N3xunn6gt",
        "outputId": "0209f2e0-dba4-4c57-93cb-d12ea6f53f34"
      },
      "source": [
        "#Visualizing the Random Forest confusion matrix\n",
        "LABELS = ['fraud', 'non_fraud']\n",
        "plt.figure(figsize=(7, 5))\n",
        "sns.heatmap(knn_conf_mat, xticklabels=LABELS,\n",
        " yticklabels=LABELS, annot=True, fmt=\"d\");\n",
        "plt.title(\"KNN Confusion matrix\")\n",
        "plt.ylabel('True class')\n",
        "plt.xlabel('Predicted class')\n",
        "plt.show()"
      ],
      "execution_count": null,
      "outputs": [
        {
          "output_type": "display_data",
          "data": {
            "image/png": "[encoded data removed]",
            "text/plain": [
              "<Figure size 504x360 with 2 Axes>"
            ]
          },
          "metadata": {
            "needs_background": "light"
          }
        }
      ]
    },
    {
      "cell_type": "code",
      "metadata": {
        "id": "W5bFH6Pan6gu"
      },
      "source": [
        "# SVM \n",
        "svm_model = SVC()\n",
        "svm_model.fit(X_train, y_train)\n",
        "svm_model_pred = svm_model.predict(X_test)\n",
        "print(cl('ACCURACY SCORE', attrs = ['bold']))\n",
        "print(cl('------------------------------------------------------------------------', attrs = ['bold']))\n",
        "print(cl('Accuracy score of the SVM model is: {}'.format(accuracy_score(y_test, svm_model_pred)), attrs = ['bold'], color = 'red'))\n",
        "print(cl('F1 SCORE', attrs = ['bold']))\n",
        "print(cl('------------------------------------------------------------------------', attrs = ['bold']))\n",
        "print(cl('F1 score of the SVM model is: {}'.format(f1_score(y_test, svm_model_pred)), attrs = ['bold'], color = 'blue'))\n",
        "print(cl('R^2 SCORE', attrs = ['bold']))\n",
        "print(cl('------------------------------------------------------------------------', attrs = ['bold']))\n",
        "print(cl('R^2 score of the SVM model is: {}'.format(r2_score(y_test, svm_model_pred)), attrs = ['bold'], color = 'green'))"
      ],
      "execution_count": null,
      "outputs": []
    },
    {
      "cell_type": "code",
      "metadata": {
        "id": "Xv14P6E9n6gu"
      },
      "source": [
        "# Printing the classifcation report and confusion matrix for SVM\n",
        "print('Classification report:\\n', classification_report(y_test, svm_model_pred))\n",
        "svm_conf_mat = confusion_matrix(y_test, svm_model_pred)\n",
        "print('SVM Confusion matrix:\\n', svm_conf_mat)"
      ],
      "execution_count": null,
      "outputs": []
    },
    {
      "cell_type": "code",
      "metadata": {
        "id": "cKgfiCHmn6gu"
      },
      "source": [
        "#Visualizing the Random Forest confusion matrix\n",
        "LABELS = ['fraud', 'non_fraud']\n",
        "plt.figure(figsize=(7, 5))\n",
        "sns.heatmap(svm_conf_mat, xticklabels=LABELS,\n",
        " yticklabels=LABELS, annot=True, fmt=\"d\");\n",
        "plt.title(\"SVM Confusion matrix\")\n",
        "plt.ylabel('True class')\n",
        "plt.xlabel('Predicted class')\n",
        "plt.show()"
      ],
      "execution_count": null,
      "outputs": []
    },
    {
      "cell_type": "code",
      "metadata": {
        "id": "Qg0WsF4An6gv"
      },
      "source": [
        "# XGBoost\n",
        "\n",
        "xgb_model = XGBClassifier(max_depth = 4)\n",
        "xgb_model.fit(X_train, y_train)\n",
        "xgb_model_pred = xgb_model.predict(X_test)\n",
        "\n",
        "print(cl('ACCURACY SCORE', attrs = ['bold']))\n",
        "print(cl('------------------------------------------------------------------------', attrs = ['bold']))\n",
        "print(cl('Accuracy score of the XGBoost model is: {}'.format(accuracy_score(y_test, xgb_model_pred)), attrs = ['bold'], color = 'red'))\n",
        "print(cl('F1 SCORE', attrs = ['bold']))\n",
        "print(cl('------------------------------------------------------------------------', attrs = ['bold']))\n",
        "print(cl('F1 score of the XGBoost model is: {}'.format(f1_score(y_test, xgb_model_pred)), attrs = ['bold'], color = 'blue'))\n",
        "print(cl('R^2 SCORE', attrs = ['bold']))\n",
        "print(cl('------------------------------------------------------------------------', attrs = ['bold']))\n",
        "print(cl('R^2 score of the XGBoost model is: {}'.format(r2_score(y_test, xgb_model_pred)), attrs = ['bold'], color = 'green'))"
      ],
      "execution_count": null,
      "outputs": []
    },
    {
      "cell_type": "code",
      "metadata": {
        "id": "IwQj9Hnqn6gv"
      },
      "source": [
        "# Printing the classifcation report and confusion matrix for XGBoost\n",
        "print('Classification report:\\n', classification_report(y_test, xgb_model_pred))\n",
        "xgb_conf_mat = confusion_matrix(y_test, xgb_model_pred)\n",
        "print('XGBoost Confusion matrix:\\n', knn_conf_mat)"
      ],
      "execution_count": null,
      "outputs": []
    },
    {
      "cell_type": "code",
      "metadata": {
        "id": "_J9ZoZLnn6gv"
      },
      "source": [
        "#Visualizing the Random Forest confusion matrix\n",
        "LABELS = ['fraud', 'non_fraud']\n",
        "plt.figure(figsize=(7, 5))\n",
        "sns.heatmap(xgb_conf_mat, xticklabels=LABELS,\n",
        " yticklabels=LABELS, annot=True, fmt=\"d\");\n",
        "plt.title(\"XGBoost Confusion matrix\")\n",
        "plt.ylabel('True class')\n",
        "plt.xlabel('Predicted class')\n",
        "plt.show()"
      ],
      "execution_count": null,
      "outputs": []
    },
    {
      "cell_type": "markdown",
      "metadata": {
        "id": "PM4R9tbXn6gw"
      },
      "source": [
        "# Addressing Label-Imbalance issue using The Synthetic Minority Oversampling Technique (SMOTE)"
      ]
    },
    {
      "cell_type": "code",
      "metadata": {
        "colab": {
          "base_uri": "https://localhost:8080/"
        },
        "id": "BBhF3lOdhyfn",
        "outputId": "1e4c24d2-1f68-482c-ed3d-90281b9723af"
      },
      "source": [
        "X_resampled, y_resampled = SMOTE().fit_resample(X, y)\n",
        "print(\"Resampled shape of X: \", X_resampled.shape)\n",
        "print(\"Resampled shape of Y: \", y_resampled.shape)\n",
        "value_counts = Counter(y_resampled)\n",
        "print(value_counts)\n",
        "(train_X, test_X, train_y, test_y) = train_test_split(X_resampled, y_resampled, test_size= 0.2, random_state= 42)\n",
        "print(\"Resampled shape of X_train: \", train_X.shape)\n",
        "print(\"Resampled shape of X_test: \", test_X.shape)\n",
        "print(\"Resampled shape of y_train: \", train_y.shape)\n",
        "print(\"Resampled shape of y_test: \", test_X.shape)"
      ],
      "execution_count": null,
      "outputs": [
        {
          "output_type": "stream",
          "name": "stdout",
          "text": [
            "Resampled shape of X:  (332528, 27)\n",
            "Resampled shape of Y:  (332528,)\n",
            "Counter({0: 166264, 1: 166264})\n",
            "Resampled shape of X_train:  (266022, 27)\n",
            "Resampled shape of X_test:  (66506, 27)\n",
            "Resampled shape of y_train:  (266022,)\n",
            "Resampled shape of y_test:  (66506, 27)\n"
          ]
        }
      ]
    },
    {
      "cell_type": "markdown",
      "metadata": {
        "id": "2G8952F6bkhg"
      },
      "source": [
        "### Random Forest Classifier Model and Scores for the resampled data\n",
        "\n"
      ]
    },
    {
      "cell_type": "code",
      "metadata": {
        "colab": {
          "base_uri": "https://localhost:8080/"
        },
        "id": "nFAOWXKF8-Rl",
        "outputId": "1d7ff640-5fc0-4f76-f389-bf5954ae1196"
      },
      "source": [
        "# Define the model as the random forest\n",
        "rf_resampled_model = RandomForestClassifier(random_state=5, n_estimators=100)\n",
        "# Fit a logistic regression model to the resampled data\n",
        "rf_resampled_model.fit(train_X, train_y)\n",
        "print(rf_resampled_model.score(train_X, train_y))\n",
        "rf_resampled_model_pred = rf_resampled_model.predict(test_X)\n",
        "print(cl('ACCURACY SCORE', attrs = ['bold']))\n",
        "print(cl('------------------------------------------------------------------------', attrs = ['bold']))\n",
        "print(cl('Accuracy score of the Random Forest Tree model is: {}'.format(accuracy_score(test_y, rf_resampled_model_pred)), attrs = ['bold'], color = 'red'))\n",
        "print(cl('F1 SCORE', attrs = ['bold']))\n",
        "print(cl('------------------------------------------------------------------------', attrs = ['bold']))\n",
        "print(cl('F1 score of the Random Forest Tree model is: {}'.format(f1_score(test_y, rf_resampled_model_pred)), attrs = ['bold'], color = 'blue'))\n",
        "print(cl('R^2 SCORE', attrs = ['bold']))\n",
        "print(cl('------------------------------------------------------------------------', attrs = ['bold']))\n",
        "print(cl('R^2 score of the Random Forest Tree model is: {}'.format(r2_score(test_y, rf_resampled_model_pred)), attrs = ['bold'], color = 'green'))"
      ],
      "execution_count": null,
      "outputs": [
        {
          "output_type": "stream",
          "name": "stdout",
          "text": [
            "0.9705437896113855\n",
            "\u001b[1mACCURACY SCORE\u001b[0m\n",
            "\u001b[1m------------------------------------------------------------------------\u001b[0m\n",
            "\u001b[1m\u001b[31mAccuracy score of the Random Forest Tree model is: 0.9147445343277298\u001b[0m\n",
            "\u001b[1mF1 SCORE\u001b[0m\n",
            "\u001b[1m------------------------------------------------------------------------\u001b[0m\n",
            "\u001b[1m\u001b[34mF1 score of the Random Forest Tree model is: 0.9135934166412679\u001b[0m\n",
            "\u001b[1mR^2 SCORE\u001b[0m\n",
            "\u001b[1m------------------------------------------------------------------------\u001b[0m\n",
            "\u001b[1m\u001b[32mR^2 score of the Random Forest Tree model is: 0.658975856336762\u001b[0m\n"
          ]
        }
      ]
    },
    {
      "cell_type": "code",
      "metadata": {
        "colab": {
          "base_uri": "https://localhost:8080/"
        },
        "id": "_1GZ--BjYdBU",
        "outputId": "ecc897ca-4e29-4df6-9d1d-b154a755112a"
      },
      "source": [
        "# Printing the classifcation report and confusion matrix for Random Forest \n",
        "print('Classification report:\\n', classification_report(test_y, rf_resampled_model_pred))\n",
        "rf_resampled_conf_mat = confusion_matrix(test_y, rf_resampled_model_pred)\n",
        "print('Random Forest Confusion matrix:\\n', rf_resampled_conf_mat)"
      ],
      "execution_count": null,
      "outputs": [
        {
          "output_type": "stream",
          "name": "stdout",
          "text": [
            "Classification report:\n",
            "               precision    recall  f1-score   support\n",
            "\n",
            "           0       0.90      0.93      0.92     33167\n",
            "           1       0.93      0.90      0.91     33339\n",
            "\n",
            "    accuracy                           0.91     66506\n",
            "   macro avg       0.92      0.91      0.91     66506\n",
            "weighted avg       0.92      0.91      0.91     66506\n",
            "\n",
            "Random Forest Confusion matrix:\n",
            " [[30861  2306]\n",
            " [ 3364 29975]]\n"
          ]
        }
      ]
    },
    {
      "cell_type": "code",
      "metadata": {
        "colab": {
          "base_uri": "https://localhost:8080/",
          "height": 351
        },
        "id": "Se62P2yHZGxy",
        "outputId": "26279b09-0ed3-437f-c435-b84d40c8b30b"
      },
      "source": [
        "#Visualizing the Random Forest confusion matrix for the Resampled data\n",
        "LABELS = ['fraud', 'non_fraud']\n",
        "plt.figure(figsize=(7, 5))\n",
        "sns.heatmap(rf_resampled_conf_mat, xticklabels=LABELS, yticklabels=LABELS, annot=True, fmt=\"d\");\n",
        "plt.title(\"Confusion Matrix - Random Forest After Oversampling\")\n",
        "plt.ylabel('True class')\n",
        "plt.xlabel('Predicted class')\n",
        "plt.show()"
      ],
      "execution_count": null,
      "outputs": [
        {
          "output_type": "display_data",
          "data": {
            "image/png": "[encoded data removed]",
            "text/plain": [
              "<Figure size 504x360 with 2 Axes>"
            ]
          },
          "metadata": {
            "needs_background": "light"
          }
        }
      ]
    },
    {
      "cell_type": "markdown",
      "metadata": {
        "id": "fZ3MtCjCZ5yW"
      },
      "source": [
        "### Decision Tree Classifier Model and Scores after Resampling"
      ]
    },
    {
      "cell_type": "code",
      "metadata": {
        "colab": {
          "base_uri": "https://localhost:8080/"
        },
        "id": "c7Mz1_NZaJUq",
        "outputId": "fcd67a8d-0f0f-4e02-880e-2567615b49b7"
      },
      "source": [
        "# Building decision tree\n",
        "# 1. Decision Tree\n",
        "dt_resampled_model = DecisionTreeClassifier(max_depth = 4, criterion = 'entropy')\n",
        "dt_resampled_model.fit(train_X, train_y)\n",
        "dt_resampled_model_pred = dt_resampled_model.predict(test_X)\n",
        "def decision_tree_classification(train_X, train_y, test_X, test_y):\n",
        "    # initialize object for DecisionTreeClassifier class\n",
        "    dt_classifier_resampled = DecisionTreeClassifier()\n",
        "    # train model by using fit method\n",
        "    print(\"Model training starts........\")\n",
        "    dt_classifier_resampled.fit(train_X, train_y.values.ravel())\n",
        "    print(\"Model training completed\")\n",
        "    accuracy_score = dt_classifier_resampled.score(X_train, y_train)\n",
        "    print(f'Accuracy of model on test dataset : {accuracy_score}')\n",
        "    # predict result using test dataset\n",
        "    dt_resampled_model_pred = dt_classifier_resampled.predict(test_X)\n",
        "    # confusion matrix\n",
        "    print(f\"Confusion Matrix : \\n {confusion_matrix(test_y, dt_resampled_model_pred)}\")\n",
        "    # classification report for f1-score\n",
        "    print(f\"Classification Report : \\n {classification_report(test_y, dt_resampled_model_pred)}\")\n",
        "\n",
        "# calling decision_tree_classification method to train and evaluate model\n",
        "decision_tree_classification(train_X, train_y, test_X, test_y)"
      ],
      "execution_count": null,
      "outputs": [
        {
          "output_type": "stream",
          "name": "stdout",
          "text": [
            "Model training starts........\n",
            "Model training completed\n",
            "Accuracy of model on test dataset : 0.9268815789473684\n",
            "Confusion Matrix : \n",
            " [[30383  2784]\n",
            " [ 4875 28464]]\n",
            "Classification Report : \n",
            "               precision    recall  f1-score   support\n",
            "\n",
            "           0       0.86      0.92      0.89     33167\n",
            "           1       0.91      0.85      0.88     33339\n",
            "\n",
            "    accuracy                           0.88     66506\n",
            "   macro avg       0.89      0.88      0.88     66506\n",
            "weighted avg       0.89      0.88      0.88     66506\n",
            "\n"
          ]
        }
      ]
    },
    {
      "cell_type": "code",
      "metadata": {
        "colab": {
          "base_uri": "https://localhost:8080/",
          "height": 351
        },
        "id": "Fde9_7UNaKAc",
        "outputId": "4261924d-ec16-46de-e459-08cfa07d2a89"
      },
      "source": [
        "#Visualizing the Decision Tree confusion matrix for the Resampled data\n",
        "LABELS = ['fraud', 'non_fraud']\n",
        "cm_resampled = confusion_matrix(test_y, dt_resampled_model_pred)\n",
        "plt.figure(figsize = (7, 5))\n",
        "sns.heatmap(confusion_matrix(test_y, dt_resampled_model_pred), xticklabels=LABELS, yticklabels=LABELS, annot=True, fmt=\"d\");\n",
        "plt.title(\"Confusion Matrix - Decision Tree After Oversampling\")\n",
        "plt.ylabel('True class')\n",
        "plt.xlabel('Predicted class')\n",
        "plt.show()"
      ],
      "execution_count": null,
      "outputs": [
        {
          "output_type": "display_data",
          "data": {
            "image/png": "[encoded data removed]",
            "text/plain": [
              "<Figure size 504x360 with 2 Axes>"
            ]
          },
          "metadata": {
            "needs_background": "light"
          }
        }
      ]
    }
  ]
}